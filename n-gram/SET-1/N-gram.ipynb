{
 "cells": [
  {
   "cell_type": "code",
   "execution_count": 1,
   "id": "aeb50b2c",
   "metadata": {},
   "outputs": [],
   "source": [
    "import pandas as pd"
   ]
  },
  {
   "cell_type": "code",
   "execution_count": 59,
   "id": "9c1a77a0",
   "metadata": {},
   "outputs": [],
   "source": [
    "row=0"
   ]
  },
  {
   "cell_type": "code",
   "execution_count": 2,
   "id": "19a3aabc",
   "metadata": {},
   "outputs": [
    {
     "name": "stdout",
     "output_type": "stream",
     "text": [
      "                    Full Name\n",
      "0            PEDDINTI KARTEEK\n",
      "1               SHUBHAM KUMAR\n",
      "2             KHAGENDRA SAMAL\n",
      "3           NADAGANA SAIDILIP\n",
      "4           MANISH KUMAR SAHU\n",
      "5               VEMPATI KAVYA\n",
      "6              BORIGI BHUMIKA\n",
      "7     BHABANI SANKAR TRIPATHY\n",
      "8            GANTGOR PRASHANT\n",
      "9           PAVAN KUMAR PANDA\n",
      "10              DILLIP BEHERA\n",
      "11           HARISANKAR PATRA\n",
      "12           BIBHUDATTA RAIKA\n",
      "13         A SURYAMANI ACHARY\n",
      "14  DWARAMPUDI NARENDRA REDDY\n",
      "15              SIVALA RAKESH\n",
      "16               KUNDAN KUMAR\n",
      "17    SASANAPURI NITESH KUMAR\n",
      "18                   M MAMATA\n",
      "19               K SRUTI RANI\n",
      "20              ELLA TIRUMALA\n",
      "21               SHIVAM KUMAR\n",
      "22               DEEPAK KUMAR\n",
      "23          PAWAN KUMAR SINGH\n",
      "24         SHIVAM KUMAR SINGH\n",
      "25   BYRRAJU PAVAN KUMAR RAJU\n",
      "26               GAURAV KUMAR\n",
      "27        YEDLA SANTOSH KUMAR\n",
      "28         BODASINGI THANUSHA\n",
      "29       KARUSODU PAVAN KUMAR\n",
      "30                JAY NARAYAN\n",
      "31             SIRLA VARDHINI\n",
      "32               KEUTO KALYAN\n",
      "33                  AMISH EDI\n",
      "34         SRITAM KUMAR PANDA\n",
      "35    PRABHU PRASAD PANIGRAHI\n",
      "36              MADHAV SAMEER\n",
      "37              KELLA HARITHA\n",
      "38      BAIRAGI RUSHIKESH DAS\n",
      "39          SINGUPURAM KISHOR\n",
      "40                BOSI RAJESH\n",
      "41          MAMIDI VENU GOPAL\n",
      "42           MANCHALA SYAMALA\n",
      "43                SAGAR PATRO\n",
      "44              KARAN BAGARTI\n",
      "45             DEBASISH GOUDA\n",
      "46          MANI KISHAN NAYAK\n",
      "47           PRANAB KUMAR SEN\n",
      "48             ANKITA PRADHAN\n",
      "49            RASMITA PRADHAN\n",
      "50       NALAJALA MANOJ KUMAR\n",
      "51              RAUSHAN KUMAR\n",
      "52                ANAND KUMAR\n",
      "53         ROHAN KUMAR BEHERA\n",
      "54               GOUTAM PATRO\n",
      "55               GANESH PATRO\n",
      "56             YERRA GIRIBABU\n",
      "57             YASHWANT KUMAR\n",
      "58             PADALA VINEETH\n",
      "59              MONINGI VIDYA\n"
     ]
    }
   ],
   "source": [
    "import numpy as np\n",
    "file_loc = \"MasterStudentList.xlsx\"\n",
    "Master_Student_list = pd.read_excel(file_loc, index_col=None, na_values=['NA'], usecols=\"B:B\")\n",
    "print(Master_Student_list)"
   ]
  },
  {
   "cell_type": "code",
   "execution_count": 3,
   "id": "677bfff5",
   "metadata": {},
   "outputs": [],
   "source": [
    "master_count=0\n",
    "for j, row2 in Master_Student_list.iterrows():\n",
    "        master_count+=1"
   ]
  },
  {
   "cell_type": "code",
   "execution_count": 62,
   "id": "01004983",
   "metadata": {},
   "outputs": [
    {
     "name": "stdout",
     "output_type": "stream",
     "text": [
      "   Attendance bot: dev(Pavan:p2pdops@gmail.com) on 2022-02-12 : 9:51: https://meet.google.com/kiv-ipch-soe  \\\n",
      "0                                                 NaN                                                        \n",
      "1                                Members present : 52                                                        \n",
      "2                                                 NaN                                                        \n",
      "3                                                 NaN                                                        \n",
      "4                                            Attendee                                                        \n",
      "5                                     DR. DILLIP ROUT                                                        \n",
      "6                                 A. SURYAMANI ACHARY                                                        \n",
      "7                                         ANAND KUMAR                                                        \n",
      "8                               BAIRAGI RUSHIKESH DAS                                                        \n",
      "9                             BHABANI SANKAR TRIPATHY                                                        \n",
      "10                                     BORIGI BHUMIKA                                                        \n",
      "11                                       DEEPAK KUMAR                                                        \n",
      "12                                      DILLIP BEHERA                                                        \n",
      "13                          DWARAMPUDI NARENDRA REDDY                                                        \n",
      "14                                      ELLA TIRUMALA                                                        \n",
      "15                                   GANTGOR PRASHANT                                                        \n",
      "16                                   HARISANKAR PATRA                                                        \n",
      "17                                       KEUTO KALYAN                                                        \n",
      "18                                      MADHAV SAMEER                                                        \n",
      "19                                   MANCHALA SYAMALA                                                        \n",
      "20                                      MONINGI VIDYA                                                        \n",
      "21                                  NADAGANA SAIDILIP                                                        \n",
      "22                                     PADALA VINEETH                                                        \n",
      "23                                  PAWAN KUMAR SINGH                                                        \n",
      "24                            PRABHU PRASAD PANIGRAHI                                                        \n",
      "25                                      RAUSHAN KUMAR                                                        \n",
      "26                            SASANAPURI NITESH KUMAR                                                        \n",
      "27                                 SHIVAM KUMAR SINGH                                                        \n",
      "28                                      SHUBHAM KUMAR                                                        \n",
      "29                                  SINGUPURAM KISHOR                                                        \n",
      "30                                     YASHWANT KUMAR                                                        \n",
      "31                                      AMISH RAO EDI                                                        \n",
      "32                                     ANKITA PRADHAN                                                        \n",
      "33                                    BIBHDATTA RAIKA                                                        \n",
      "34                                 BODASINGI THANUSHA                                                        \n",
      "35                                        BOSI RAJESH                                                        \n",
      "36                           BYRRAJU PAVAN KUMAR RAJU                                                        \n",
      "37                                       GAURAV KUMAR                                                        \n",
      "38                                       GOUTAM PATRO                                                        \n",
      "39                                        JAY NARAYAN                                                        \n",
      "40                                      KARAN BAGARTI                                                        \n",
      "41                               KARUSODU PAVAN KUMAR                                                        \n",
      "42                                      KELLA HARITHA                                                        \n",
      "43                                    KHAGENDRA SAMAL                                                        \n",
      "44                                  MAMIDI VENU GOPAL                                                        \n",
      "45                                  MANI KISHAN NAYAK                                                        \n",
      "46                               NALAJALA MANOJ KUMAR                                                        \n",
      "47                                  PAVAN KUMAR PANDA                                                        \n",
      "48                                   PEDDINTI KARTEEK                                                        \n",
      "49                                 ROHAN KUMAR BEHERA                                                        \n",
      "50                                        SAGAR PATRO                                                        \n",
      "51                                     SIRLA VARDHINI                                                        \n",
      "52                                      SIVALA RAKESH                                                        \n",
      "53                                YEDLA SANTOSH KUMAR                                                        \n",
      "54                                       GANESH PATRO                                                        \n",
      "55                                       KUNDAN KUMAR                                                        \n",
      "56                                  MANISH KUMAR SAHU                                                        \n",
      "57                                                NaN                                                        \n",
      "\n",
      "     Unnamed: 1 Unnamed: 2 Unnamed: 3 Unnamed: 4  \n",
      "0           NaN        NaN        NaN        NaN  \n",
      "1           NaN        NaN        NaN        NaN  \n",
      "2           NaN        NaN        NaN        NaN  \n",
      "3           NaN        NaN        NaN        NaN  \n",
      "4         Score    9:10 AM    9:42 AM    9:51 AM  \n",
      "5           3/3          ✅          ✅          ✅  \n",
      "6           3/3          ✅          ✅          ✅  \n",
      "7           3/3          ✅          ✅          ✅  \n",
      "8           2/3          ✅          ✅          ❎  \n",
      "9           3/3          ✅          ✅          ✅  \n",
      "10          3/3          ✅          ✅          ✅  \n",
      "11          3/3          ✅          ✅          ✅  \n",
      "12          3/3          ✅          ✅          ✅  \n",
      "13          2/3          ✅          ✅          ❎  \n",
      "14          2/3          ✅          ❎          ✅  \n",
      "15          3/3          ✅          ✅          ✅  \n",
      "16          3/3          ✅          ✅          ✅  \n",
      "17          3/3          ✅          ✅          ✅  \n",
      "18          3/3          ✅          ✅          ✅  \n",
      "19          3/3          ✅          ✅          ✅  \n",
      "20          3/3          ✅          ✅          ✅  \n",
      "21          3/3          ✅          ✅          ✅  \n",
      "22          3/3          ✅          ✅          ✅  \n",
      "23          3/3          ✅          ✅          ✅  \n",
      "24          3/3          ✅          ✅          ✅  \n",
      "25          3/3          ✅          ✅          ✅  \n",
      "26          3/3          ✅          ✅          ✅  \n",
      "27          2/3          ✅          ❎          ✅  \n",
      "28          3/3          ✅          ✅          ✅  \n",
      "29          3/3          ✅          ✅          ✅  \n",
      "30          3/3          ✅          ✅          ✅  \n",
      "31          2/3          ❎          ✅          ✅  \n",
      "32          2/3          ❎          ✅          ✅  \n",
      "33          1/3          ❎          ✅          ❎  \n",
      "34          2/3          ❎          ✅          ✅  \n",
      "35          2/3          ❎          ✅          ✅  \n",
      "36          2/3          ❎          ✅          ✅  \n",
      "37          2/3          ❎          ✅          ✅  \n",
      "38          2/3          ❎          ✅          ✅  \n",
      "39          2/3          ❎          ✅          ✅  \n",
      "40          2/3          ❎          ✅          ✅  \n",
      "41          1/3          ❎          ✅          ❎  \n",
      "42          2/3          ❎          ✅          ✅  \n",
      "43          2/3          ❎          ✅          ✅  \n",
      "44          2/3          ❎          ✅          ✅  \n",
      "45          2/3          ❎          ✅          ✅  \n",
      "46          2/3          ❎          ✅          ✅  \n",
      "47          2/3          ❎          ✅          ✅  \n",
      "48          2/3          ❎          ✅          ✅  \n",
      "49          2/3          ❎          ✅          ✅  \n",
      "50          2/3          ❎          ✅          ✅  \n",
      "51          2/3          ❎          ✅          ✅  \n",
      "52          1/3          ❎          ✅          ❎  \n",
      "53          2/3          ❎          ✅          ✅  \n",
      "54          1/3          ❎          ❎          ✅  \n",
      "55          1/3          ❎          ❎          ✅  \n",
      "56          1/3          ❎          ❎          ✅  \n",
      "57  Avg: 2.31/3        NaN        NaN        NaN  \n"
     ]
    }
   ],
   "source": [
    "Attendee_list = pd.read_excel (r'2022-02-12.xlsx')\n",
    "print (Attendee_list)"
   ]
  },
  {
   "cell_type": "code",
   "execution_count": 63,
   "id": "47c39619",
   "metadata": {},
   "outputs": [],
   "source": [
    "Attendee_list.rename(columns = {'Attendance bot: dev(Pavan:p2pdops@gmail.com) on 2022-02-12 : 9:51: https://meet.google.com/kiv-ipch-soe':'Attendee', \n",
    "                      'Unnamed: 1':'Score','Unnamed: 2':'1:46 PM','Unnamed: 3':'1:55 PM','Unnamed: 4':'2:01 PM','Unnamed: 5':'2:41 PM'},\n",
    "         inplace=True)"
   ]
  },
  {
   "cell_type": "code",
   "execution_count": 64,
   "id": "811f56ca",
   "metadata": {},
   "outputs": [],
   "source": [
    " Attendee_list= Attendee_list.drop(Attendee_list.index [  0:4  ] )"
   ]
  },
  {
   "cell_type": "code",
   "execution_count": 65,
   "id": "663b6254",
   "metadata": {},
   "outputs": [],
   "source": [
    "Attendee_list= Attendee_list.drop(Attendee_list.index [  0:2  ] )"
   ]
  },
  {
   "cell_type": "code",
   "execution_count": 66,
   "id": "3e962a36",
   "metadata": {},
   "outputs": [],
   "source": [
    "Attendee_list.drop(Attendee_list.tail(1).index,inplace=True) "
   ]
  },
  {
   "cell_type": "code",
   "execution_count": 67,
   "id": "28945fa9",
   "metadata": {},
   "outputs": [
    {
     "data": {
      "text/html": [
       "<div>\n",
       "<style scoped>\n",
       "    .dataframe tbody tr th:only-of-type {\n",
       "        vertical-align: middle;\n",
       "    }\n",
       "\n",
       "    .dataframe tbody tr th {\n",
       "        vertical-align: top;\n",
       "    }\n",
       "\n",
       "    .dataframe thead th {\n",
       "        text-align: right;\n",
       "    }\n",
       "</style>\n",
       "<table border=\"1\" class=\"dataframe\">\n",
       "  <thead>\n",
       "    <tr style=\"text-align: right;\">\n",
       "      <th></th>\n",
       "      <th>Attendee</th>\n",
       "      <th>Score</th>\n",
       "      <th>1:46 PM</th>\n",
       "      <th>1:55 PM</th>\n",
       "      <th>2:01 PM</th>\n",
       "    </tr>\n",
       "  </thead>\n",
       "  <tbody>\n",
       "    <tr>\n",
       "      <th>6</th>\n",
       "      <td>A. SURYAMANI ACHARY</td>\n",
       "      <td>3/3</td>\n",
       "      <td>✅</td>\n",
       "      <td>✅</td>\n",
       "      <td>✅</td>\n",
       "    </tr>\n",
       "    <tr>\n",
       "      <th>7</th>\n",
       "      <td>ANAND KUMAR</td>\n",
       "      <td>3/3</td>\n",
       "      <td>✅</td>\n",
       "      <td>✅</td>\n",
       "      <td>✅</td>\n",
       "    </tr>\n",
       "    <tr>\n",
       "      <th>8</th>\n",
       "      <td>BAIRAGI RUSHIKESH DAS</td>\n",
       "      <td>2/3</td>\n",
       "      <td>✅</td>\n",
       "      <td>✅</td>\n",
       "      <td>❎</td>\n",
       "    </tr>\n",
       "    <tr>\n",
       "      <th>9</th>\n",
       "      <td>BHABANI SANKAR TRIPATHY</td>\n",
       "      <td>3/3</td>\n",
       "      <td>✅</td>\n",
       "      <td>✅</td>\n",
       "      <td>✅</td>\n",
       "    </tr>\n",
       "    <tr>\n",
       "      <th>10</th>\n",
       "      <td>BORIGI BHUMIKA</td>\n",
       "      <td>3/3</td>\n",
       "      <td>✅</td>\n",
       "      <td>✅</td>\n",
       "      <td>✅</td>\n",
       "    </tr>\n",
       "    <tr>\n",
       "      <th>11</th>\n",
       "      <td>DEEPAK KUMAR</td>\n",
       "      <td>3/3</td>\n",
       "      <td>✅</td>\n",
       "      <td>✅</td>\n",
       "      <td>✅</td>\n",
       "    </tr>\n",
       "    <tr>\n",
       "      <th>12</th>\n",
       "      <td>DILLIP BEHERA</td>\n",
       "      <td>3/3</td>\n",
       "      <td>✅</td>\n",
       "      <td>✅</td>\n",
       "      <td>✅</td>\n",
       "    </tr>\n",
       "    <tr>\n",
       "      <th>13</th>\n",
       "      <td>DWARAMPUDI NARENDRA REDDY</td>\n",
       "      <td>2/3</td>\n",
       "      <td>✅</td>\n",
       "      <td>✅</td>\n",
       "      <td>❎</td>\n",
       "    </tr>\n",
       "    <tr>\n",
       "      <th>14</th>\n",
       "      <td>ELLA TIRUMALA</td>\n",
       "      <td>2/3</td>\n",
       "      <td>✅</td>\n",
       "      <td>❎</td>\n",
       "      <td>✅</td>\n",
       "    </tr>\n",
       "    <tr>\n",
       "      <th>15</th>\n",
       "      <td>GANTGOR PRASHANT</td>\n",
       "      <td>3/3</td>\n",
       "      <td>✅</td>\n",
       "      <td>✅</td>\n",
       "      <td>✅</td>\n",
       "    </tr>\n",
       "    <tr>\n",
       "      <th>16</th>\n",
       "      <td>HARISANKAR PATRA</td>\n",
       "      <td>3/3</td>\n",
       "      <td>✅</td>\n",
       "      <td>✅</td>\n",
       "      <td>✅</td>\n",
       "    </tr>\n",
       "    <tr>\n",
       "      <th>17</th>\n",
       "      <td>KEUTO KALYAN</td>\n",
       "      <td>3/3</td>\n",
       "      <td>✅</td>\n",
       "      <td>✅</td>\n",
       "      <td>✅</td>\n",
       "    </tr>\n",
       "    <tr>\n",
       "      <th>18</th>\n",
       "      <td>MADHAV SAMEER</td>\n",
       "      <td>3/3</td>\n",
       "      <td>✅</td>\n",
       "      <td>✅</td>\n",
       "      <td>✅</td>\n",
       "    </tr>\n",
       "    <tr>\n",
       "      <th>19</th>\n",
       "      <td>MANCHALA SYAMALA</td>\n",
       "      <td>3/3</td>\n",
       "      <td>✅</td>\n",
       "      <td>✅</td>\n",
       "      <td>✅</td>\n",
       "    </tr>\n",
       "    <tr>\n",
       "      <th>20</th>\n",
       "      <td>MONINGI VIDYA</td>\n",
       "      <td>3/3</td>\n",
       "      <td>✅</td>\n",
       "      <td>✅</td>\n",
       "      <td>✅</td>\n",
       "    </tr>\n",
       "    <tr>\n",
       "      <th>21</th>\n",
       "      <td>NADAGANA SAIDILIP</td>\n",
       "      <td>3/3</td>\n",
       "      <td>✅</td>\n",
       "      <td>✅</td>\n",
       "      <td>✅</td>\n",
       "    </tr>\n",
       "    <tr>\n",
       "      <th>22</th>\n",
       "      <td>PADALA VINEETH</td>\n",
       "      <td>3/3</td>\n",
       "      <td>✅</td>\n",
       "      <td>✅</td>\n",
       "      <td>✅</td>\n",
       "    </tr>\n",
       "    <tr>\n",
       "      <th>23</th>\n",
       "      <td>PAWAN KUMAR SINGH</td>\n",
       "      <td>3/3</td>\n",
       "      <td>✅</td>\n",
       "      <td>✅</td>\n",
       "      <td>✅</td>\n",
       "    </tr>\n",
       "    <tr>\n",
       "      <th>24</th>\n",
       "      <td>PRABHU PRASAD PANIGRAHI</td>\n",
       "      <td>3/3</td>\n",
       "      <td>✅</td>\n",
       "      <td>✅</td>\n",
       "      <td>✅</td>\n",
       "    </tr>\n",
       "    <tr>\n",
       "      <th>25</th>\n",
       "      <td>RAUSHAN KUMAR</td>\n",
       "      <td>3/3</td>\n",
       "      <td>✅</td>\n",
       "      <td>✅</td>\n",
       "      <td>✅</td>\n",
       "    </tr>\n",
       "    <tr>\n",
       "      <th>26</th>\n",
       "      <td>SASANAPURI NITESH KUMAR</td>\n",
       "      <td>3/3</td>\n",
       "      <td>✅</td>\n",
       "      <td>✅</td>\n",
       "      <td>✅</td>\n",
       "    </tr>\n",
       "    <tr>\n",
       "      <th>27</th>\n",
       "      <td>SHIVAM KUMAR SINGH</td>\n",
       "      <td>2/3</td>\n",
       "      <td>✅</td>\n",
       "      <td>❎</td>\n",
       "      <td>✅</td>\n",
       "    </tr>\n",
       "    <tr>\n",
       "      <th>28</th>\n",
       "      <td>SHUBHAM KUMAR</td>\n",
       "      <td>3/3</td>\n",
       "      <td>✅</td>\n",
       "      <td>✅</td>\n",
       "      <td>✅</td>\n",
       "    </tr>\n",
       "    <tr>\n",
       "      <th>29</th>\n",
       "      <td>SINGUPURAM KISHOR</td>\n",
       "      <td>3/3</td>\n",
       "      <td>✅</td>\n",
       "      <td>✅</td>\n",
       "      <td>✅</td>\n",
       "    </tr>\n",
       "    <tr>\n",
       "      <th>30</th>\n",
       "      <td>YASHWANT KUMAR</td>\n",
       "      <td>3/3</td>\n",
       "      <td>✅</td>\n",
       "      <td>✅</td>\n",
       "      <td>✅</td>\n",
       "    </tr>\n",
       "    <tr>\n",
       "      <th>31</th>\n",
       "      <td>AMISH RAO EDI</td>\n",
       "      <td>2/3</td>\n",
       "      <td>❎</td>\n",
       "      <td>✅</td>\n",
       "      <td>✅</td>\n",
       "    </tr>\n",
       "    <tr>\n",
       "      <th>32</th>\n",
       "      <td>ANKITA PRADHAN</td>\n",
       "      <td>2/3</td>\n",
       "      <td>❎</td>\n",
       "      <td>✅</td>\n",
       "      <td>✅</td>\n",
       "    </tr>\n",
       "    <tr>\n",
       "      <th>33</th>\n",
       "      <td>BIBHDATTA RAIKA</td>\n",
       "      <td>1/3</td>\n",
       "      <td>❎</td>\n",
       "      <td>✅</td>\n",
       "      <td>❎</td>\n",
       "    </tr>\n",
       "    <tr>\n",
       "      <th>34</th>\n",
       "      <td>BODASINGI THANUSHA</td>\n",
       "      <td>2/3</td>\n",
       "      <td>❎</td>\n",
       "      <td>✅</td>\n",
       "      <td>✅</td>\n",
       "    </tr>\n",
       "    <tr>\n",
       "      <th>35</th>\n",
       "      <td>BOSI RAJESH</td>\n",
       "      <td>2/3</td>\n",
       "      <td>❎</td>\n",
       "      <td>✅</td>\n",
       "      <td>✅</td>\n",
       "    </tr>\n",
       "    <tr>\n",
       "      <th>36</th>\n",
       "      <td>BYRRAJU PAVAN KUMAR RAJU</td>\n",
       "      <td>2/3</td>\n",
       "      <td>❎</td>\n",
       "      <td>✅</td>\n",
       "      <td>✅</td>\n",
       "    </tr>\n",
       "    <tr>\n",
       "      <th>37</th>\n",
       "      <td>GAURAV KUMAR</td>\n",
       "      <td>2/3</td>\n",
       "      <td>❎</td>\n",
       "      <td>✅</td>\n",
       "      <td>✅</td>\n",
       "    </tr>\n",
       "    <tr>\n",
       "      <th>38</th>\n",
       "      <td>GOUTAM PATRO</td>\n",
       "      <td>2/3</td>\n",
       "      <td>❎</td>\n",
       "      <td>✅</td>\n",
       "      <td>✅</td>\n",
       "    </tr>\n",
       "    <tr>\n",
       "      <th>39</th>\n",
       "      <td>JAY NARAYAN</td>\n",
       "      <td>2/3</td>\n",
       "      <td>❎</td>\n",
       "      <td>✅</td>\n",
       "      <td>✅</td>\n",
       "    </tr>\n",
       "    <tr>\n",
       "      <th>40</th>\n",
       "      <td>KARAN BAGARTI</td>\n",
       "      <td>2/3</td>\n",
       "      <td>❎</td>\n",
       "      <td>✅</td>\n",
       "      <td>✅</td>\n",
       "    </tr>\n",
       "    <tr>\n",
       "      <th>41</th>\n",
       "      <td>KARUSODU PAVAN KUMAR</td>\n",
       "      <td>1/3</td>\n",
       "      <td>❎</td>\n",
       "      <td>✅</td>\n",
       "      <td>❎</td>\n",
       "    </tr>\n",
       "    <tr>\n",
       "      <th>42</th>\n",
       "      <td>KELLA HARITHA</td>\n",
       "      <td>2/3</td>\n",
       "      <td>❎</td>\n",
       "      <td>✅</td>\n",
       "      <td>✅</td>\n",
       "    </tr>\n",
       "    <tr>\n",
       "      <th>43</th>\n",
       "      <td>KHAGENDRA SAMAL</td>\n",
       "      <td>2/3</td>\n",
       "      <td>❎</td>\n",
       "      <td>✅</td>\n",
       "      <td>✅</td>\n",
       "    </tr>\n",
       "    <tr>\n",
       "      <th>44</th>\n",
       "      <td>MAMIDI VENU GOPAL</td>\n",
       "      <td>2/3</td>\n",
       "      <td>❎</td>\n",
       "      <td>✅</td>\n",
       "      <td>✅</td>\n",
       "    </tr>\n",
       "    <tr>\n",
       "      <th>45</th>\n",
       "      <td>MANI KISHAN NAYAK</td>\n",
       "      <td>2/3</td>\n",
       "      <td>❎</td>\n",
       "      <td>✅</td>\n",
       "      <td>✅</td>\n",
       "    </tr>\n",
       "    <tr>\n",
       "      <th>46</th>\n",
       "      <td>NALAJALA MANOJ KUMAR</td>\n",
       "      <td>2/3</td>\n",
       "      <td>❎</td>\n",
       "      <td>✅</td>\n",
       "      <td>✅</td>\n",
       "    </tr>\n",
       "    <tr>\n",
       "      <th>47</th>\n",
       "      <td>PAVAN KUMAR PANDA</td>\n",
       "      <td>2/3</td>\n",
       "      <td>❎</td>\n",
       "      <td>✅</td>\n",
       "      <td>✅</td>\n",
       "    </tr>\n",
       "    <tr>\n",
       "      <th>48</th>\n",
       "      <td>PEDDINTI KARTEEK</td>\n",
       "      <td>2/3</td>\n",
       "      <td>❎</td>\n",
       "      <td>✅</td>\n",
       "      <td>✅</td>\n",
       "    </tr>\n",
       "    <tr>\n",
       "      <th>49</th>\n",
       "      <td>ROHAN KUMAR BEHERA</td>\n",
       "      <td>2/3</td>\n",
       "      <td>❎</td>\n",
       "      <td>✅</td>\n",
       "      <td>✅</td>\n",
       "    </tr>\n",
       "    <tr>\n",
       "      <th>50</th>\n",
       "      <td>SAGAR PATRO</td>\n",
       "      <td>2/3</td>\n",
       "      <td>❎</td>\n",
       "      <td>✅</td>\n",
       "      <td>✅</td>\n",
       "    </tr>\n",
       "    <tr>\n",
       "      <th>51</th>\n",
       "      <td>SIRLA VARDHINI</td>\n",
       "      <td>2/3</td>\n",
       "      <td>❎</td>\n",
       "      <td>✅</td>\n",
       "      <td>✅</td>\n",
       "    </tr>\n",
       "    <tr>\n",
       "      <th>52</th>\n",
       "      <td>SIVALA RAKESH</td>\n",
       "      <td>1/3</td>\n",
       "      <td>❎</td>\n",
       "      <td>✅</td>\n",
       "      <td>❎</td>\n",
       "    </tr>\n",
       "    <tr>\n",
       "      <th>53</th>\n",
       "      <td>YEDLA SANTOSH KUMAR</td>\n",
       "      <td>2/3</td>\n",
       "      <td>❎</td>\n",
       "      <td>✅</td>\n",
       "      <td>✅</td>\n",
       "    </tr>\n",
       "    <tr>\n",
       "      <th>54</th>\n",
       "      <td>GANESH PATRO</td>\n",
       "      <td>1/3</td>\n",
       "      <td>❎</td>\n",
       "      <td>❎</td>\n",
       "      <td>✅</td>\n",
       "    </tr>\n",
       "    <tr>\n",
       "      <th>55</th>\n",
       "      <td>KUNDAN KUMAR</td>\n",
       "      <td>1/3</td>\n",
       "      <td>❎</td>\n",
       "      <td>❎</td>\n",
       "      <td>✅</td>\n",
       "    </tr>\n",
       "    <tr>\n",
       "      <th>56</th>\n",
       "      <td>MANISH KUMAR SAHU</td>\n",
       "      <td>1/3</td>\n",
       "      <td>❎</td>\n",
       "      <td>❎</td>\n",
       "      <td>✅</td>\n",
       "    </tr>\n",
       "  </tbody>\n",
       "</table>\n",
       "</div>"
      ],
      "text/plain": [
       "                     Attendee Score 1:46 PM 1:55 PM 2:01 PM\n",
       "6         A. SURYAMANI ACHARY   3/3       ✅       ✅       ✅\n",
       "7                 ANAND KUMAR   3/3       ✅       ✅       ✅\n",
       "8       BAIRAGI RUSHIKESH DAS   2/3       ✅       ✅       ❎\n",
       "9     BHABANI SANKAR TRIPATHY   3/3       ✅       ✅       ✅\n",
       "10             BORIGI BHUMIKA   3/3       ✅       ✅       ✅\n",
       "11               DEEPAK KUMAR   3/3       ✅       ✅       ✅\n",
       "12              DILLIP BEHERA   3/3       ✅       ✅       ✅\n",
       "13  DWARAMPUDI NARENDRA REDDY   2/3       ✅       ✅       ❎\n",
       "14              ELLA TIRUMALA   2/3       ✅       ❎       ✅\n",
       "15           GANTGOR PRASHANT   3/3       ✅       ✅       ✅\n",
       "16           HARISANKAR PATRA   3/3       ✅       ✅       ✅\n",
       "17               KEUTO KALYAN   3/3       ✅       ✅       ✅\n",
       "18              MADHAV SAMEER   3/3       ✅       ✅       ✅\n",
       "19           MANCHALA SYAMALA   3/3       ✅       ✅       ✅\n",
       "20              MONINGI VIDYA   3/3       ✅       ✅       ✅\n",
       "21          NADAGANA SAIDILIP   3/3       ✅       ✅       ✅\n",
       "22             PADALA VINEETH   3/3       ✅       ✅       ✅\n",
       "23          PAWAN KUMAR SINGH   3/3       ✅       ✅       ✅\n",
       "24    PRABHU PRASAD PANIGRAHI   3/3       ✅       ✅       ✅\n",
       "25              RAUSHAN KUMAR   3/3       ✅       ✅       ✅\n",
       "26    SASANAPURI NITESH KUMAR   3/3       ✅       ✅       ✅\n",
       "27         SHIVAM KUMAR SINGH   2/3       ✅       ❎       ✅\n",
       "28              SHUBHAM KUMAR   3/3       ✅       ✅       ✅\n",
       "29          SINGUPURAM KISHOR   3/3       ✅       ✅       ✅\n",
       "30             YASHWANT KUMAR   3/3       ✅       ✅       ✅\n",
       "31              AMISH RAO EDI   2/3       ❎       ✅       ✅\n",
       "32             ANKITA PRADHAN   2/3       ❎       ✅       ✅\n",
       "33            BIBHDATTA RAIKA   1/3       ❎       ✅       ❎\n",
       "34         BODASINGI THANUSHA   2/3       ❎       ✅       ✅\n",
       "35                BOSI RAJESH   2/3       ❎       ✅       ✅\n",
       "36   BYRRAJU PAVAN KUMAR RAJU   2/3       ❎       ✅       ✅\n",
       "37               GAURAV KUMAR   2/3       ❎       ✅       ✅\n",
       "38               GOUTAM PATRO   2/3       ❎       ✅       ✅\n",
       "39                JAY NARAYAN   2/3       ❎       ✅       ✅\n",
       "40              KARAN BAGARTI   2/3       ❎       ✅       ✅\n",
       "41       KARUSODU PAVAN KUMAR   1/3       ❎       ✅       ❎\n",
       "42              KELLA HARITHA   2/3       ❎       ✅       ✅\n",
       "43            KHAGENDRA SAMAL   2/3       ❎       ✅       ✅\n",
       "44          MAMIDI VENU GOPAL   2/3       ❎       ✅       ✅\n",
       "45          MANI KISHAN NAYAK   2/3       ❎       ✅       ✅\n",
       "46       NALAJALA MANOJ KUMAR   2/3       ❎       ✅       ✅\n",
       "47          PAVAN KUMAR PANDA   2/3       ❎       ✅       ✅\n",
       "48           PEDDINTI KARTEEK   2/3       ❎       ✅       ✅\n",
       "49         ROHAN KUMAR BEHERA   2/3       ❎       ✅       ✅\n",
       "50                SAGAR PATRO   2/3       ❎       ✅       ✅\n",
       "51             SIRLA VARDHINI   2/3       ❎       ✅       ✅\n",
       "52              SIVALA RAKESH   1/3       ❎       ✅       ❎\n",
       "53        YEDLA SANTOSH KUMAR   2/3       ❎       ✅       ✅\n",
       "54               GANESH PATRO   1/3       ❎       ❎       ✅\n",
       "55               KUNDAN KUMAR   1/3       ❎       ❎       ✅\n",
       "56          MANISH KUMAR SAHU   1/3       ❎       ❎       ✅"
      ]
     },
     "execution_count": 67,
     "metadata": {},
     "output_type": "execute_result"
    }
   ],
   "source": [
    "Attendee_list"
   ]
  },
  {
   "cell_type": "code",
   "execution_count": 68,
   "id": "69a81f29",
   "metadata": {},
   "outputs": [],
   "source": [
    "Attendance_count=0\n",
    "direct_string_match=0\n",
    "n_gram_list=[]\n",
    "count_n_gram_match=0\n",
    "n_gram_success_3=[]\n",
    "n_gram_failure_3=[]\n",
    "n_gram_success_count_3=0\n",
    "n_gram_failure_count_3=0"
   ]
  },
  {
   "cell_type": "code",
   "execution_count": 69,
   "id": "b864fcaf",
   "metadata": {},
   "outputs": [
    {
     "data": {
      "text/plain": [
       "['A. SURYAMANI ACHARY', 'AMISH RAO EDI', 'BIBHDATTA RAIKA']"
      ]
     },
     "execution_count": 69,
     "metadata": {},
     "output_type": "execute_result"
    }
   ],
   "source": [
    "for i, row in Attendee_list.iterrows():\n",
    "    Attendance_count+=1\n",
    "    Attendee_name=f\"{row['Attendee']}\"\n",
    "    upper_case_attendee_name=Attendee_name.upper()\n",
    "    sorted_attendee_name= ''.join(sorted(upper_case_attendee_name))\n",
    "    ans=900\n",
    "    flag=0\n",
    "    for j, row2 in Master_Student_list.iterrows():\n",
    "        Master_name=f\"{row2['Full Name']}\"\n",
    "        if(Master_name==upper_case_attendee_name):\n",
    "            flag=1\n",
    "            break\n",
    "           \n",
    "    if(flag==1):\n",
    "        direct_string_match+=1\n",
    "    else:\n",
    "        n_gram_list.append(Attendee_name)\n",
    "        count_n_gram_match+=1\n",
    "        \n",
    "n_gram_list"
   ]
  },
  {
   "cell_type": "code",
   "execution_count": 70,
   "id": "277ff84e",
   "metadata": {},
   "outputs": [],
   "source": [
    "def ngram(sentence, num):\n",
    "    tmp = [] \n",
    "    sent_len = len(sentence) - num +1\n",
    "    for i in range(sent_len):\n",
    "        tmp.append(sentence[i:i+num]) \n",
    "    return tmp"
   ]
  },
  {
   "cell_type": "code",
   "execution_count": 71,
   "id": "ab2b416a",
   "metadata": {},
   "outputs": [],
   "source": [
    "def diff_ngram(sent_a, sent_b, num):\n",
    "    a = ngram(sent_a, num)\n",
    "    b = ngram(sent_b, num) \n",
    "    common = [] \n",
    "    cnt = 0 \n",
    "    for i in a:\n",
    "        for j in b:\n",
    "            if i == j:\n",
    "                cnt += 1\n",
    "                common.append(i)\n",
    "                break\n",
    "    return cnt/len(a), common"
   ]
  },
  {
   "cell_type": "code",
   "execution_count": 72,
   "id": "0c4d2add",
   "metadata": {},
   "outputs": [
    {
     "name": "stdout",
     "output_type": "stream",
     "text": [
      "A. SURYAMANI ACHARY   A SURYAMANI ACHARY  0.8235294117647058\n",
      "['AAA', 'AAA', 'AAA', 'AAC', 'ACH', 'CHI', 'HIM', 'IMN', 'MNR', 'NRR', 'RRS', 'RSU', 'SUY', 'UYY']\n",
      "AMISH RAO EDI   YEDLA SANTOSH KUMAR  0.5454545454545454\n",
      "['  A', ' AA', 'AAD', 'ADE', 'DEH', 'ORS']\n",
      "BIBHDATTA RAIKA   BIBHUDATTA RAIKA  1.0\n",
      "[' AA', 'AAA', 'AAA', 'AAB', 'ABB', 'BBD', 'BDH', 'DHI', 'HII', 'IIK', 'IKR', 'KRT', 'RTT']\n"
     ]
    }
   ],
   "source": [
    "for attend in n_gram_list:\n",
    "    attendee_name=attend\n",
    "    ans=-1\n",
    "    req_list=[]\n",
    "    upper_case_attendee_name=attendee_name.upper()\n",
    "    sorted_attendee_name= ''.join(sorted(upper_case_attendee_name))\n",
    "    for j, row2 in Master_Student_list.iterrows():\n",
    "        Master_name=f\"{row2['Full Name']}\"\n",
    "        sorted_master_name= ''.join(sorted(Master_name))\n",
    "        val,val_list=diff_ngram(str(sorted_attendee_name), str(sorted_master_name),3)\n",
    "        if(val>=ans):\n",
    "            ans=val\n",
    "            req_list=val_list\n",
    "            resultant_master_name=Master_name\n",
    "    print(attendee_name+\"   \"+resultant_master_name+\"  \"+str(ans))\n",
    "    print(req_list)"
   ]
  },
  {
   "cell_type": "code",
   "execution_count": 73,
   "id": "8674b8b1",
   "metadata": {},
   "outputs": [
    {
     "name": "stdout",
     "output_type": "stream",
     "text": [
      ".AAAAACHIMNRRSUYY   AAAAACHIMNRRSUYY  0.9333333333333333\n",
      "['AAA', 'AAA', 'AAA', 'AAC', 'ACH', 'CHI', 'HIM', 'IMN', 'MNR', 'NRR', 'RRS', 'RSU', 'SUY', 'UYY']\n",
      "AADEHIIMORS   ADEHIIMS  0.5555555555555556\n",
      "['ADE', 'DEH', 'EHI', 'HII', 'IIM']\n",
      "AAAABBDHIIKRTT   AAAABBDHIIKRTTU  1.0\n",
      "['AAA', 'AAA', 'AAB', 'ABB', 'BBD', 'BDH', 'DHI', 'HII', 'IIK', 'IKR', 'KRT', 'RTT']\n"
     ]
    }
   ],
   "source": [
    "for attend in n_gram_list:\n",
    "    attendee_name=attend\n",
    "    ans=-1\n",
    "    req_list=[]\n",
    "    upper_case_attendee_name=attendee_name.upper()\n",
    "    upper_case_removed=upper_case_attendee_name.replace(\" \", \"\")\n",
    "    sorted_attendee_name= ''.join(sorted(upper_case_removed))\n",
    "    for j, row2 in Master_Student_list.iterrows():\n",
    "        Master_name=f\"{row2['Full Name']}\"\n",
    "        master_name_removed=Master_name.replace(\" \", \"\")\n",
    "        sorted_master_name= ''.join(sorted(master_name_removed))\n",
    "        val,val_list=diff_ngram(str(sorted_attendee_name), str(sorted_master_name),3)\n",
    "        if(val>=ans):\n",
    "            ans=val\n",
    "            req_list=val_list\n",
    "            resultant_master_name=sorted_master_name\n",
    "            res_master=Master_name\n",
    "    print(sorted_attendee_name+\"   \"+resultant_master_name+\"  \"+str(ans))\n",
    "    print(req_list)\n",
    "    if(ans==1.0):\n",
    "        n_gram_success_3.append(res_master)\n",
    "        n_gram_success_count_3+=1\n",
    "    else:\n",
    "        n_gram_failure_3.append(res_master)\n",
    "        n_gram_failure_count_3+=1\n",
    "    "
   ]
  },
  {
   "cell_type": "code",
   "execution_count": 74,
   "id": "1abb51f4",
   "metadata": {},
   "outputs": [
    {
     "data": {
      "text/plain": [
       "['BIBHUDATTA RAIKA']"
      ]
     },
     "execution_count": 74,
     "metadata": {},
     "output_type": "execute_result"
    }
   ],
   "source": [
    "n_gram_success_3"
   ]
  },
  {
   "cell_type": "code",
   "execution_count": 75,
   "id": "0f84928e",
   "metadata": {},
   "outputs": [
    {
     "data": {
      "text/plain": [
       "['A SURYAMANI ACHARY', 'AMISH EDI']"
      ]
     },
     "execution_count": 75,
     "metadata": {},
     "output_type": "execute_result"
    }
   ],
   "source": [
    "n_gram_failure_3"
   ]
  },
  {
   "cell_type": "code",
   "execution_count": 76,
   "id": "58a6f042",
   "metadata": {},
   "outputs": [
    {
     "data": {
      "text/plain": [
       "1"
      ]
     },
     "execution_count": 76,
     "metadata": {},
     "output_type": "execute_result"
    }
   ],
   "source": [
    "n_gram_success_count_3"
   ]
  },
  {
   "cell_type": "code",
   "execution_count": 77,
   "id": "41fccac0",
   "metadata": {},
   "outputs": [
    {
     "data": {
      "text/plain": [
       "2"
      ]
     },
     "execution_count": 77,
     "metadata": {},
     "output_type": "execute_result"
    }
   ],
   "source": [
    "n_gram_failure_count_3"
   ]
  },
  {
   "cell_type": "code",
   "execution_count": 78,
   "id": "458782e2",
   "metadata": {},
   "outputs": [],
   "source": [
    "n_gram_success_4=[]\n",
    "n_gram_failure_4=[]\n",
    "n_gram_success_count_4=0\n",
    "n_gram_failure_count_4=0"
   ]
  },
  {
   "cell_type": "code",
   "execution_count": 79,
   "id": "1b55b458",
   "metadata": {},
   "outputs": [
    {
     "name": "stdout",
     "output_type": "stream",
     "text": [
      ".AAAAACHIMNRRSUYY   AAAAACHIMNRRSUYY  0.9285714285714286\n",
      "['AAAA', 'AAAA', 'AAAC', 'AACH', 'ACHI', 'CHIM', 'HIMN', 'IMNR', 'MNRR', 'NRRS', 'RRSU', 'RSUY', 'SUYY']\n",
      "AADEHIIMORS   ADEHIIMS  0.5\n",
      "['ADEH', 'DEHI', 'EHII', 'HIIM']\n",
      "AAAABBDHIIKRTT   AAAABBDHIIKRTTU  1.0\n",
      "['AAAA', 'AAAB', 'AABB', 'ABBD', 'BBDH', 'BDHI', 'DHII', 'HIIK', 'IIKR', 'IKRT', 'KRTT']\n"
     ]
    }
   ],
   "source": [
    "for attend in n_gram_list:\n",
    "    attendee_name=attend\n",
    "    ans=-1\n",
    "    req_list=[]\n",
    "    upper_case_attendee_name=attendee_name.upper()\n",
    "    upper_case_removed=upper_case_attendee_name.replace(\" \", \"\")\n",
    "    sorted_attendee_name= ''.join(sorted(upper_case_removed))\n",
    "    for j, row2 in Master_Student_list.iterrows():\n",
    "        Master_name=f\"{row2['Full Name']}\"\n",
    "        master_name_removed=Master_name.replace(\" \", \"\")\n",
    "        sorted_master_name= ''.join(sorted(master_name_removed))\n",
    "        val,val_list=diff_ngram(str(sorted_attendee_name), str(sorted_master_name),4)\n",
    "        if(val>=ans):\n",
    "            ans=val\n",
    "            req_list=val_list\n",
    "            resultant_master_name=sorted_master_name\n",
    "            res_master=Master_name\n",
    "    print(sorted_attendee_name+\"   \"+resultant_master_name+\"  \"+str(ans))\n",
    "    print(req_list)\n",
    "    if(ans==1.0):\n",
    "        n_gram_success_4.append(res_master)\n",
    "        n_gram_success_count_4+=1\n",
    "    else:\n",
    "        n_gram_failure_4.append(res_master)\n",
    "        n_gram_failure_count_4+=1\n",
    "    "
   ]
  },
  {
   "cell_type": "code",
   "execution_count": 80,
   "id": "084154fb",
   "metadata": {},
   "outputs": [
    {
     "data": {
      "text/plain": [
       "['BIBHUDATTA RAIKA']"
      ]
     },
     "execution_count": 80,
     "metadata": {},
     "output_type": "execute_result"
    }
   ],
   "source": [
    "n_gram_success_4"
   ]
  },
  {
   "cell_type": "code",
   "execution_count": 81,
   "id": "834b9aef",
   "metadata": {},
   "outputs": [
    {
     "data": {
      "text/plain": [
       "1"
      ]
     },
     "execution_count": 81,
     "metadata": {},
     "output_type": "execute_result"
    }
   ],
   "source": [
    "n_gram_success_count_4"
   ]
  },
  {
   "cell_type": "code",
   "execution_count": 82,
   "id": "eafa9e30",
   "metadata": {},
   "outputs": [
    {
     "data": {
      "text/plain": [
       "['A SURYAMANI ACHARY', 'AMISH EDI']"
      ]
     },
     "execution_count": 82,
     "metadata": {},
     "output_type": "execute_result"
    }
   ],
   "source": [
    "n_gram_failure_4"
   ]
  },
  {
   "cell_type": "code",
   "execution_count": 83,
   "id": "53ae31c5",
   "metadata": {},
   "outputs": [
    {
     "data": {
      "text/plain": [
       "60"
      ]
     },
     "execution_count": 83,
     "metadata": {},
     "output_type": "execute_result"
    }
   ],
   "source": [
    "master_count"
   ]
  },
  {
   "cell_type": "code",
   "execution_count": 84,
   "id": "487806a8",
   "metadata": {},
   "outputs": [
    {
     "data": {
      "text/plain": [
       "51"
      ]
     },
     "execution_count": 84,
     "metadata": {},
     "output_type": "execute_result"
    }
   ],
   "source": [
    "Attendance_count"
   ]
  },
  {
   "cell_type": "code",
   "execution_count": 85,
   "id": "33517d87",
   "metadata": {},
   "outputs": [
    {
     "data": {
      "text/plain": [
       "0.85"
      ]
     },
     "execution_count": 85,
     "metadata": {},
     "output_type": "execute_result"
    }
   ],
   "source": [
    "x=Attendance_count/master_count\n",
    "x"
   ]
  },
  {
   "cell_type": "code",
   "execution_count": 86,
   "id": "d687fdf9",
   "metadata": {},
   "outputs": [],
   "source": [
    "y=x*100"
   ]
  },
  {
   "cell_type": "code",
   "execution_count": 87,
   "id": "3947373b",
   "metadata": {},
   "outputs": [],
   "source": [
    "total_per=round(y,2)"
   ]
  },
  {
   "cell_type": "code",
   "execution_count": 88,
   "id": "c51f9e48",
   "metadata": {},
   "outputs": [
    {
     "data": {
      "text/plain": [
       "85.0"
      ]
     },
     "execution_count": 88,
     "metadata": {},
     "output_type": "execute_result"
    }
   ],
   "source": [
    "total_per"
   ]
  },
  {
   "cell_type": "code",
   "execution_count": 89,
   "id": "2b810ee1",
   "metadata": {},
   "outputs": [
    {
     "data": {
      "text/plain": [
       "48"
      ]
     },
     "execution_count": 89,
     "metadata": {},
     "output_type": "execute_result"
    }
   ],
   "source": [
    "direct_string_match"
   ]
  },
  {
   "cell_type": "code",
   "execution_count": 90,
   "id": "2e3d1c84",
   "metadata": {},
   "outputs": [
    {
     "data": {
      "text/plain": [
       "0.9411764705882353"
      ]
     },
     "execution_count": 90,
     "metadata": {},
     "output_type": "execute_result"
    }
   ],
   "source": [
    "per_dir_str_match=direct_string_match/Attendance_count  \n",
    "per_dir_str_match"
   ]
  },
  {
   "cell_type": "code",
   "execution_count": 91,
   "id": "992ee9d0",
   "metadata": {},
   "outputs": [
    {
     "data": {
      "text/plain": [
       "94.11764705882352"
      ]
     },
     "execution_count": 91,
     "metadata": {},
     "output_type": "execute_result"
    }
   ],
   "source": [
    "per_dir_str_match=per_dir_str_match*100\n",
    "per_dir_str_match"
   ]
  },
  {
   "cell_type": "code",
   "execution_count": 92,
   "id": "551e8d73",
   "metadata": {},
   "outputs": [
    {
     "data": {
      "text/plain": [
       "94.12"
      ]
     },
     "execution_count": 92,
     "metadata": {},
     "output_type": "execute_result"
    }
   ],
   "source": [
    "per_dir_str_match=round(per_dir_str_match,2)\n",
    "per_dir_str_match"
   ]
  },
  {
   "cell_type": "code",
   "execution_count": 93,
   "id": "719e2bb0",
   "metadata": {},
   "outputs": [
    {
     "data": {
      "text/plain": [
       "0.058823529411764705"
      ]
     },
     "execution_count": 93,
     "metadata": {},
     "output_type": "execute_result"
    }
   ],
   "source": [
    "n_gram_str_match=count_n_gram_match/Attendance_count\n",
    "n_gram_str_match"
   ]
  },
  {
   "cell_type": "code",
   "execution_count": 94,
   "id": "d08772a8",
   "metadata": {},
   "outputs": [
    {
     "data": {
      "text/plain": [
       "5.88235294117647"
      ]
     },
     "execution_count": 94,
     "metadata": {},
     "output_type": "execute_result"
    }
   ],
   "source": [
    "n_gram_str_match=n_gram_str_match*100\n",
    "n_gram_str_match"
   ]
  },
  {
   "cell_type": "code",
   "execution_count": 95,
   "id": "c724fb0c",
   "metadata": {},
   "outputs": [
    {
     "data": {
      "text/plain": [
       "5.88"
      ]
     },
     "execution_count": 95,
     "metadata": {},
     "output_type": "execute_result"
    }
   ],
   "source": [
    "n_gram_str_match=round(n_gram_str_match,2)\n",
    "n_gram_str_match"
   ]
  },
  {
   "cell_type": "code",
   "execution_count": 96,
   "id": "18271412",
   "metadata": {},
   "outputs": [],
   "source": [
    "n_gram_success_percentage_3=n_gram_success_count_3/Attendance_count"
   ]
  },
  {
   "cell_type": "code",
   "execution_count": 97,
   "id": "9f27eabf",
   "metadata": {},
   "outputs": [],
   "source": [
    "n_gram_success_percentage_3=n_gram_success_percentage_3*100"
   ]
  },
  {
   "cell_type": "code",
   "execution_count": 98,
   "id": "02b5eb7d",
   "metadata": {},
   "outputs": [],
   "source": [
    "n_gram_success_percentage_3=round(n_gram_success_percentage_3,2)"
   ]
  },
  {
   "cell_type": "code",
   "execution_count": 99,
   "id": "efa60c50",
   "metadata": {},
   "outputs": [
    {
     "data": {
      "text/plain": [
       "1.96"
      ]
     },
     "execution_count": 99,
     "metadata": {},
     "output_type": "execute_result"
    }
   ],
   "source": [
    "n_gram_success_percentage_3"
   ]
  },
  {
   "cell_type": "code",
   "execution_count": 100,
   "id": "bc1e4706",
   "metadata": {},
   "outputs": [],
   "source": [
    "n_gram_failure_percentage_3=n_gram_failure_count_3/Attendance_count"
   ]
  },
  {
   "cell_type": "code",
   "execution_count": 101,
   "id": "50e083b5",
   "metadata": {},
   "outputs": [],
   "source": [
    "n_gram_failure_percentage_3=n_gram_failure_percentage_3*100"
   ]
  },
  {
   "cell_type": "code",
   "execution_count": 102,
   "id": "a3afe20a",
   "metadata": {},
   "outputs": [],
   "source": [
    "n_gram_failure_percentage_3=round(n_gram_failure_percentage_3,2)"
   ]
  },
  {
   "cell_type": "code",
   "execution_count": 103,
   "id": "ef38b54d",
   "metadata": {},
   "outputs": [
    {
     "data": {
      "text/plain": [
       "3.92"
      ]
     },
     "execution_count": 103,
     "metadata": {},
     "output_type": "execute_result"
    }
   ],
   "source": [
    "n_gram_failure_percentage_3"
   ]
  },
  {
   "cell_type": "code",
   "execution_count": 104,
   "id": "fc9b750f",
   "metadata": {},
   "outputs": [],
   "source": [
    "n_gram_success_percentage_4=n_gram_success_count_4/Attendance_count"
   ]
  },
  {
   "cell_type": "code",
   "execution_count": 105,
   "id": "a6db1518",
   "metadata": {},
   "outputs": [],
   "source": [
    "n_gram_success_percentage_4=n_gram_success_percentage_4*100"
   ]
  },
  {
   "cell_type": "code",
   "execution_count": 106,
   "id": "5aa8cd6b",
   "metadata": {},
   "outputs": [],
   "source": [
    "n_gram_success_percentage_4=round(n_gram_success_percentage_4,2)"
   ]
  },
  {
   "cell_type": "code",
   "execution_count": 107,
   "id": "c490e305",
   "metadata": {},
   "outputs": [
    {
     "data": {
      "text/plain": [
       "1.96"
      ]
     },
     "execution_count": 107,
     "metadata": {},
     "output_type": "execute_result"
    }
   ],
   "source": [
    "n_gram_success_percentage_4"
   ]
  },
  {
   "cell_type": "code",
   "execution_count": 108,
   "id": "aa19cfd8",
   "metadata": {},
   "outputs": [],
   "source": [
    "n_gram_failure_percentage_4=n_gram_failure_count_4/Attendance_count"
   ]
  },
  {
   "cell_type": "code",
   "execution_count": 109,
   "id": "b22f55d4",
   "metadata": {},
   "outputs": [],
   "source": [
    "n_gram_failure_percentage_4=n_gram_failure_percentage_4*100"
   ]
  },
  {
   "cell_type": "code",
   "execution_count": 110,
   "id": "410bcd16",
   "metadata": {},
   "outputs": [
    {
     "data": {
      "text/plain": [
       "3.92"
      ]
     },
     "execution_count": 110,
     "metadata": {},
     "output_type": "execute_result"
    }
   ],
   "source": [
    "n_gram_failure_percentage_4=round(n_gram_failure_percentage_4,2)\n",
    "n_gram_failure_percentage_4"
   ]
  },
  {
   "cell_type": "code",
   "execution_count": 111,
   "id": "695e6aa6",
   "metadata": {},
   "outputs": [
    {
     "name": "stdout",
     "output_type": "stream",
     "text": [
      "    Unnamed: 0                  Full Name       Roll No\n",
      "0            1           PEDDINTI KARTEEK  210101120061\n",
      "1            2              SHUBHAM KUMAR  210101120062\n",
      "2            3            KHAGENDRA SAMAL  210101120063\n",
      "3            4          NADAGANA SAIDILIP  210101120064\n",
      "4            5          MANISH KUMAR SAHU  210101120065\n",
      "5            6              VEMPATI KAVYA  210101120066\n",
      "6            7             BORIGI BHUMIKA  210101120067\n",
      "7            8    BHABANI SANKAR TRIPATHY  210101120068\n",
      "8            9           GANTGOR PRASHANT  210101120069\n",
      "9           10          PAVAN KUMAR PANDA  210101120070\n",
      "10          11              DILLIP BEHERA  210101120071\n",
      "11          12           HARISANKAR PATRA  210101120072\n",
      "12          13           BIBHUDATTA RAIKA  210101120073\n",
      "13          14         A SURYAMANI ACHARY  210101120074\n",
      "14          15  DWARAMPUDI NARENDRA REDDY  210101120075\n",
      "15          16              SIVALA RAKESH  210101120076\n",
      "16          17               KUNDAN KUMAR  210101120077\n",
      "17          18    SASANAPURI NITESH KUMAR  210101120078\n",
      "18          19                   M MAMATA  210101120079\n",
      "19          20               K SRUTI RANI  210101120080\n",
      "20          21              ELLA TIRUMALA  210101120081\n",
      "21          22               SHIVAM KUMAR  210101120082\n",
      "22          23               DEEPAK KUMAR  210101120083\n",
      "23          24          PAWAN KUMAR SINGH  210101120084\n",
      "24          25         SHIVAM KUMAR SINGH  210101120085\n",
      "25          26   BYRRAJU PAVAN KUMAR RAJU  210101120086\n",
      "26          27               GAURAV KUMAR  210101120087\n",
      "27          28        YEDLA SANTOSH KUMAR  210101120088\n",
      "28          29         BODASINGI THANUSHA  210101120089\n",
      "29          30       KARUSODU PAVAN KUMAR  210101120090\n",
      "30          31                JAY NARAYAN  210101120091\n",
      "31          32             SIRLA VARDHINI  210101120092\n",
      "32          33               KEUTO KALYAN  210101120093\n",
      "33          34                  AMISH EDI  210101120094\n",
      "34          35         SRITAM KUMAR PANDA  210101120095\n",
      "35          36    PRABHU PRASAD PANIGRAHI  210101120096\n",
      "36          37              MADHAV SAMEER  210101120097\n",
      "37          38              KELLA HARITHA  210101120098\n",
      "38          39      BAIRAGI RUSHIKESH DAS  210101120099\n",
      "39          40          SINGUPURAM KISHOR  210101120100\n",
      "40          41                BOSI RAJESH  210101120101\n",
      "41          42          MAMIDI VENU GOPAL  210101120102\n",
      "42          43           MANCHALA SYAMALA  210101120103\n",
      "43          44                SAGAR PATRO  210101120104\n",
      "44          45              KARAN BAGARTI  210101120105\n",
      "45          46             DEBASISH GOUDA  210101120106\n",
      "46          47          MANI KISHAN NAYAK  210101120107\n",
      "47          48           PRANAB KUMAR SEN  210101120108\n",
      "48          49             ANKITA PRADHAN  210101120109\n",
      "49          50            RASMITA PRADHAN  210101120110\n",
      "50          51       NALAJALA MANOJ KUMAR  210101120111\n",
      "51          52              RAUSHAN KUMAR  210101120112\n",
      "52          53                ANAND KUMAR  210101120113\n",
      "53          54         ROHAN KUMAR BEHERA  210101120114\n",
      "54          55               GOUTAM PATRO  210101120115\n",
      "55          56               GANESH PATRO  210101120116\n",
      "56          57             YERRA GIRIBABU  210101120117\n",
      "57          58             YASHWANT KUMAR  210101120118\n",
      "58          59             PADALA VINEETH  210101120119\n",
      "59          60              MONINGI VIDYA  210101120120\n"
     ]
    }
   ],
   "source": [
    "file_loc = \"MasterStudentList.xlsx\"\n",
    "Master_Student_list = pd.read_excel(file_loc, index_col=None, na_values=['NA'])\n",
    "print(Master_Student_list)"
   ]
  },
  {
   "cell_type": "code",
   "execution_count": 56,
   "id": "f5b98e88",
   "metadata": {},
   "outputs": [],
   "source": [
    "import xlsxwriter\n",
    "\n",
    "workbook = xlsxwriter.Workbook(\"output_set_4.xlsx\",)\n",
    "worksheet = workbook.add_worksheet()"
   ]
  },
  {
   "cell_type": "code",
   "execution_count": 57,
   "id": "322a373e",
   "metadata": {},
   "outputs": [
    {
     "data": {
      "text/plain": [
       "0"
      ]
     },
     "execution_count": 57,
     "metadata": {},
     "output_type": "execute_result"
    }
   ],
   "source": [
    "worksheet.write(0,0,'Date')\n",
    "worksheet.write(0, 1, 'Total percentage of attendee')\n",
    "worksheet.write(0, 2, 'Total percentage of direct string match' )\n",
    "worksheet.write(0, 3, 'Total percentage of n-gram match' )\n",
    "worksheet.write(0, 4, 'percentage of 3-gram match with value as 1.0' )\n",
    "worksheet.write(0, 5, 'Failure percentage with 3-gram(Value < 1.0)' )\n",
    "worksheet.write(0, 6, 'percentage of 4-gram match with value as 1.0' )\n",
    "worksheet.write(0, 7, 'Failure percentage with 4-gram(Value < 1.0)' )\n",
    "worksheet.write(0, 8, 'Number of Attendee')\n",
    "worksheet.write(0, 9, 'Number of direct string match')\n",
    "worksheet.write(0, 10, 'Number of n-gram string match')\n",
    "worksheet.write(0, 11, 'Number of success with 3-gram (Value==1.0)')\n",
    "worksheet.write(0, 12, 'Number of failure with 3-gram( Value<1.0)')\n",
    "worksheet.write(0, 13, 'Number of success with 4-gram (Value==1.0)')\n",
    "worksheet.write(0, 14, 'Number of failure with 4-gram( Value<1.0)')"
   ]
  },
  {
   "cell_type": "code",
   "execution_count": 115,
   "id": "f0cfd75f",
   "metadata": {},
   "outputs": [
    {
     "ename": "TypeError",
     "evalue": "can only concatenate str (not \"int\") to str",
     "output_type": "error",
     "traceback": [
      "\u001b[1;31m---------------------------------------------------------------------------\u001b[0m",
      "\u001b[1;31mTypeError\u001b[0m                                 Traceback (most recent call last)",
      "File \u001b[1;32mC:\\Python310\\lib\\site-packages\\pandas\\core\\ops\\array_ops.py:163\u001b[0m, in \u001b[0;36m_na_arithmetic_op\u001b[1;34m(left, right, op, is_cmp)\u001b[0m\n\u001b[0;32m    162\u001b[0m \u001b[38;5;28;01mtry\u001b[39;00m:\n\u001b[1;32m--> 163\u001b[0m     result \u001b[38;5;241m=\u001b[39m \u001b[43mfunc\u001b[49m\u001b[43m(\u001b[49m\u001b[43mleft\u001b[49m\u001b[43m,\u001b[49m\u001b[43m \u001b[49m\u001b[43mright\u001b[49m\u001b[43m)\u001b[49m\n\u001b[0;32m    164\u001b[0m \u001b[38;5;28;01mexcept\u001b[39;00m \u001b[38;5;167;01mTypeError\u001b[39;00m:\n",
      "File \u001b[1;32mC:\\Python310\\lib\\site-packages\\pandas\\core\\computation\\expressions.py:239\u001b[0m, in \u001b[0;36mevaluate\u001b[1;34m(op, a, b, use_numexpr)\u001b[0m\n\u001b[0;32m    237\u001b[0m     \u001b[38;5;28;01mif\u001b[39;00m use_numexpr:\n\u001b[0;32m    238\u001b[0m         \u001b[38;5;66;03m# error: \"None\" not callable\u001b[39;00m\n\u001b[1;32m--> 239\u001b[0m         \u001b[38;5;28;01mreturn\u001b[39;00m \u001b[43m_evaluate\u001b[49m\u001b[43m(\u001b[49m\u001b[43mop\u001b[49m\u001b[43m,\u001b[49m\u001b[43m \u001b[49m\u001b[43mop_str\u001b[49m\u001b[43m,\u001b[49m\u001b[43m \u001b[49m\u001b[43ma\u001b[49m\u001b[43m,\u001b[49m\u001b[43m \u001b[49m\u001b[43mb\u001b[49m\u001b[43m)\u001b[49m  \u001b[38;5;66;03m# type: ignore[misc]\u001b[39;00m\n\u001b[0;32m    240\u001b[0m \u001b[38;5;28;01mreturn\u001b[39;00m _evaluate_standard(op, op_str, a, b)\n",
      "File \u001b[1;32mC:\\Python310\\lib\\site-packages\\pandas\\core\\computation\\expressions.py:69\u001b[0m, in \u001b[0;36m_evaluate_standard\u001b[1;34m(op, op_str, a, b)\u001b[0m\n\u001b[0;32m     68\u001b[0m     _store_test_result(\u001b[38;5;28;01mFalse\u001b[39;00m)\n\u001b[1;32m---> 69\u001b[0m \u001b[38;5;28;01mreturn\u001b[39;00m \u001b[43mop\u001b[49m\u001b[43m(\u001b[49m\u001b[43ma\u001b[49m\u001b[43m,\u001b[49m\u001b[43m \u001b[49m\u001b[43mb\u001b[49m\u001b[43m)\u001b[49m\n",
      "\u001b[1;31mTypeError\u001b[0m: can only concatenate str (not \"int\") to str",
      "\nDuring handling of the above exception, another exception occurred:\n",
      "\u001b[1;31mTypeError\u001b[0m                                 Traceback (most recent call last)",
      "Input \u001b[1;32mIn [115]\u001b[0m, in \u001b[0;36m<cell line: 1>\u001b[1;34m()\u001b[0m\n\u001b[1;32m----> 1\u001b[0m row\u001b[38;5;241m+\u001b[39m\u001b[38;5;241m=\u001b[39m\u001b[38;5;241m1\u001b[39m\n",
      "File \u001b[1;32mC:\\Python310\\lib\\site-packages\\pandas\\core\\generic.py:11375\u001b[0m, in \u001b[0;36mNDFrame.__iadd__\u001b[1;34m(self, other)\u001b[0m\n\u001b[0;32m  11373\u001b[0m \u001b[38;5;28;01mdef\u001b[39;00m \u001b[38;5;21m__iadd__\u001b[39m(\u001b[38;5;28mself\u001b[39m, other):\n\u001b[0;32m  11374\u001b[0m     \u001b[38;5;66;03m# error: Unsupported left operand type for + (\"Type[NDFrame]\")\u001b[39;00m\n\u001b[1;32m> 11375\u001b[0m     \u001b[38;5;28;01mreturn\u001b[39;00m \u001b[38;5;28;43mself\u001b[39;49m\u001b[38;5;241;43m.\u001b[39;49m\u001b[43m_inplace_method\u001b[49m\u001b[43m(\u001b[49m\u001b[43mother\u001b[49m\u001b[43m,\u001b[49m\u001b[43m \u001b[49m\u001b[38;5;28;43mtype\u001b[39;49m\u001b[43m(\u001b[49m\u001b[38;5;28;43mself\u001b[39;49m\u001b[43m)\u001b[49m\u001b[38;5;241;43m.\u001b[39;49m\u001b[38;5;21;43m__add__\u001b[39;49m\u001b[43m)\u001b[49m\n",
      "File \u001b[1;32mC:\\Python310\\lib\\site-packages\\pandas\\core\\generic.py:11352\u001b[0m, in \u001b[0;36mNDFrame._inplace_method\u001b[1;34m(self, other, op)\u001b[0m\n\u001b[0;32m  11347\u001b[0m \u001b[38;5;129m@final\u001b[39m\n\u001b[0;32m  11348\u001b[0m \u001b[38;5;28;01mdef\u001b[39;00m \u001b[38;5;21m_inplace_method\u001b[39m(\u001b[38;5;28mself\u001b[39m, other, op):\n\u001b[0;32m  11349\u001b[0m     \u001b[38;5;124;03m\"\"\"\u001b[39;00m\n\u001b[0;32m  11350\u001b[0m \u001b[38;5;124;03m    Wrap arithmetic method to operate inplace.\u001b[39;00m\n\u001b[0;32m  11351\u001b[0m \u001b[38;5;124;03m    \"\"\"\u001b[39;00m\n\u001b[1;32m> 11352\u001b[0m     result \u001b[38;5;241m=\u001b[39m \u001b[43mop\u001b[49m\u001b[43m(\u001b[49m\u001b[38;5;28;43mself\u001b[39;49m\u001b[43m,\u001b[49m\u001b[43m \u001b[49m\u001b[43mother\u001b[49m\u001b[43m)\u001b[49m\n\u001b[0;32m  11354\u001b[0m     \u001b[38;5;28;01mif\u001b[39;00m (\n\u001b[0;32m  11355\u001b[0m         \u001b[38;5;28mself\u001b[39m\u001b[38;5;241m.\u001b[39mndim \u001b[38;5;241m==\u001b[39m \u001b[38;5;241m1\u001b[39m\n\u001b[0;32m  11356\u001b[0m         \u001b[38;5;129;01mand\u001b[39;00m result\u001b[38;5;241m.\u001b[39m_indexed_same(\u001b[38;5;28mself\u001b[39m)\n\u001b[0;32m  11357\u001b[0m         \u001b[38;5;129;01mand\u001b[39;00m is_dtype_equal(result\u001b[38;5;241m.\u001b[39mdtype, \u001b[38;5;28mself\u001b[39m\u001b[38;5;241m.\u001b[39mdtype)\n\u001b[0;32m  11358\u001b[0m     ):\n\u001b[0;32m  11359\u001b[0m         \u001b[38;5;66;03m# GH#36498 this inplace op can _actually_ be inplace.\u001b[39;00m\n\u001b[0;32m  11360\u001b[0m         \u001b[38;5;28mself\u001b[39m\u001b[38;5;241m.\u001b[39m_values[:] \u001b[38;5;241m=\u001b[39m result\u001b[38;5;241m.\u001b[39m_values\n",
      "File \u001b[1;32mC:\\Python310\\lib\\site-packages\\pandas\\core\\ops\\common.py:70\u001b[0m, in \u001b[0;36m_unpack_zerodim_and_defer.<locals>.new_method\u001b[1;34m(self, other)\u001b[0m\n\u001b[0;32m     66\u001b[0m             \u001b[38;5;28;01mreturn\u001b[39;00m \u001b[38;5;28mNotImplemented\u001b[39m\n\u001b[0;32m     68\u001b[0m other \u001b[38;5;241m=\u001b[39m item_from_zerodim(other)\n\u001b[1;32m---> 70\u001b[0m \u001b[38;5;28;01mreturn\u001b[39;00m \u001b[43mmethod\u001b[49m\u001b[43m(\u001b[49m\u001b[38;5;28;43mself\u001b[39;49m\u001b[43m,\u001b[49m\u001b[43m \u001b[49m\u001b[43mother\u001b[49m\u001b[43m)\u001b[49m\n",
      "File \u001b[1;32mC:\\Python310\\lib\\site-packages\\pandas\\core\\arraylike.py:100\u001b[0m, in \u001b[0;36mOpsMixin.__add__\u001b[1;34m(self, other)\u001b[0m\n\u001b[0;32m     98\u001b[0m \u001b[38;5;129m@unpack_zerodim_and_defer\u001b[39m(\u001b[38;5;124m\"\u001b[39m\u001b[38;5;124m__add__\u001b[39m\u001b[38;5;124m\"\u001b[39m)\n\u001b[0;32m     99\u001b[0m \u001b[38;5;28;01mdef\u001b[39;00m \u001b[38;5;21m__add__\u001b[39m(\u001b[38;5;28mself\u001b[39m, other):\n\u001b[1;32m--> 100\u001b[0m     \u001b[38;5;28;01mreturn\u001b[39;00m \u001b[38;5;28;43mself\u001b[39;49m\u001b[38;5;241;43m.\u001b[39;49m\u001b[43m_arith_method\u001b[49m\u001b[43m(\u001b[49m\u001b[43mother\u001b[49m\u001b[43m,\u001b[49m\u001b[43m \u001b[49m\u001b[43moperator\u001b[49m\u001b[38;5;241;43m.\u001b[39;49m\u001b[43madd\u001b[49m\u001b[43m)\u001b[49m\n",
      "File \u001b[1;32mC:\\Python310\\lib\\site-packages\\pandas\\core\\series.py:5639\u001b[0m, in \u001b[0;36mSeries._arith_method\u001b[1;34m(self, other, op)\u001b[0m\n\u001b[0;32m   5637\u001b[0m \u001b[38;5;28;01mdef\u001b[39;00m \u001b[38;5;21m_arith_method\u001b[39m(\u001b[38;5;28mself\u001b[39m, other, op):\n\u001b[0;32m   5638\u001b[0m     \u001b[38;5;28mself\u001b[39m, other \u001b[38;5;241m=\u001b[39m ops\u001b[38;5;241m.\u001b[39malign_method_SERIES(\u001b[38;5;28mself\u001b[39m, other)\n\u001b[1;32m-> 5639\u001b[0m     \u001b[38;5;28;01mreturn\u001b[39;00m \u001b[43mbase\u001b[49m\u001b[38;5;241;43m.\u001b[39;49m\u001b[43mIndexOpsMixin\u001b[49m\u001b[38;5;241;43m.\u001b[39;49m\u001b[43m_arith_method\u001b[49m\u001b[43m(\u001b[49m\u001b[38;5;28;43mself\u001b[39;49m\u001b[43m,\u001b[49m\u001b[43m \u001b[49m\u001b[43mother\u001b[49m\u001b[43m,\u001b[49m\u001b[43m \u001b[49m\u001b[43mop\u001b[49m\u001b[43m)\u001b[49m\n",
      "File \u001b[1;32mC:\\Python310\\lib\\site-packages\\pandas\\core\\base.py:1295\u001b[0m, in \u001b[0;36mIndexOpsMixin._arith_method\u001b[1;34m(self, other, op)\u001b[0m\n\u001b[0;32m   1292\u001b[0m rvalues \u001b[38;5;241m=\u001b[39m ensure_wrapped_if_datetimelike(rvalues)\n\u001b[0;32m   1294\u001b[0m \u001b[38;5;28;01mwith\u001b[39;00m np\u001b[38;5;241m.\u001b[39merrstate(\u001b[38;5;28mall\u001b[39m\u001b[38;5;241m=\u001b[39m\u001b[38;5;124m\"\u001b[39m\u001b[38;5;124mignore\u001b[39m\u001b[38;5;124m\"\u001b[39m):\n\u001b[1;32m-> 1295\u001b[0m     result \u001b[38;5;241m=\u001b[39m \u001b[43mops\u001b[49m\u001b[38;5;241;43m.\u001b[39;49m\u001b[43marithmetic_op\u001b[49m\u001b[43m(\u001b[49m\u001b[43mlvalues\u001b[49m\u001b[43m,\u001b[49m\u001b[43m \u001b[49m\u001b[43mrvalues\u001b[49m\u001b[43m,\u001b[49m\u001b[43m \u001b[49m\u001b[43mop\u001b[49m\u001b[43m)\u001b[49m\n\u001b[0;32m   1297\u001b[0m \u001b[38;5;28;01mreturn\u001b[39;00m \u001b[38;5;28mself\u001b[39m\u001b[38;5;241m.\u001b[39m_construct_result(result, name\u001b[38;5;241m=\u001b[39mres_name)\n",
      "File \u001b[1;32mC:\\Python310\\lib\\site-packages\\pandas\\core\\ops\\array_ops.py:222\u001b[0m, in \u001b[0;36marithmetic_op\u001b[1;34m(left, right, op)\u001b[0m\n\u001b[0;32m    217\u001b[0m \u001b[38;5;28;01melse\u001b[39;00m:\n\u001b[0;32m    218\u001b[0m     \u001b[38;5;66;03m# TODO we should handle EAs consistently and move this check before the if/else\u001b[39;00m\n\u001b[0;32m    219\u001b[0m     \u001b[38;5;66;03m# (https://github.com/pandas-dev/pandas/issues/41165)\u001b[39;00m\n\u001b[0;32m    220\u001b[0m     _bool_arith_check(op, left, right)\n\u001b[1;32m--> 222\u001b[0m     res_values \u001b[38;5;241m=\u001b[39m \u001b[43m_na_arithmetic_op\u001b[49m\u001b[43m(\u001b[49m\u001b[43mleft\u001b[49m\u001b[43m,\u001b[49m\u001b[43m \u001b[49m\u001b[43mright\u001b[49m\u001b[43m,\u001b[49m\u001b[43m \u001b[49m\u001b[43mop\u001b[49m\u001b[43m)\u001b[49m\n\u001b[0;32m    224\u001b[0m \u001b[38;5;28;01mreturn\u001b[39;00m res_values\n",
      "File \u001b[1;32mC:\\Python310\\lib\\site-packages\\pandas\\core\\ops\\array_ops.py:170\u001b[0m, in \u001b[0;36m_na_arithmetic_op\u001b[1;34m(left, right, op, is_cmp)\u001b[0m\n\u001b[0;32m    164\u001b[0m \u001b[38;5;28;01mexcept\u001b[39;00m \u001b[38;5;167;01mTypeError\u001b[39;00m:\n\u001b[0;32m    165\u001b[0m     \u001b[38;5;28;01mif\u001b[39;00m \u001b[38;5;129;01mnot\u001b[39;00m is_cmp \u001b[38;5;129;01mand\u001b[39;00m (is_object_dtype(left\u001b[38;5;241m.\u001b[39mdtype) \u001b[38;5;129;01mor\u001b[39;00m is_object_dtype(right)):\n\u001b[0;32m    166\u001b[0m         \u001b[38;5;66;03m# For object dtype, fallback to a masked operation (only operating\u001b[39;00m\n\u001b[0;32m    167\u001b[0m         \u001b[38;5;66;03m#  on the non-missing values)\u001b[39;00m\n\u001b[0;32m    168\u001b[0m         \u001b[38;5;66;03m# Don't do this for comparisons, as that will handle complex numbers\u001b[39;00m\n\u001b[0;32m    169\u001b[0m         \u001b[38;5;66;03m#  incorrectly, see GH#32047\u001b[39;00m\n\u001b[1;32m--> 170\u001b[0m         result \u001b[38;5;241m=\u001b[39m \u001b[43m_masked_arith_op\u001b[49m\u001b[43m(\u001b[49m\u001b[43mleft\u001b[49m\u001b[43m,\u001b[49m\u001b[43m \u001b[49m\u001b[43mright\u001b[49m\u001b[43m,\u001b[49m\u001b[43m \u001b[49m\u001b[43mop\u001b[49m\u001b[43m)\u001b[49m\n\u001b[0;32m    171\u001b[0m     \u001b[38;5;28;01melse\u001b[39;00m:\n\u001b[0;32m    172\u001b[0m         \u001b[38;5;28;01mraise\u001b[39;00m\n",
      "File \u001b[1;32mC:\\Python310\\lib\\site-packages\\pandas\\core\\ops\\array_ops.py:127\u001b[0m, in \u001b[0;36m_masked_arith_op\u001b[1;34m(x, y, op)\u001b[0m\n\u001b[0;32m    124\u001b[0m         mask \u001b[38;5;241m=\u001b[39m np\u001b[38;5;241m.\u001b[39mwhere(y \u001b[38;5;241m==\u001b[39m \u001b[38;5;241m1\u001b[39m, \u001b[38;5;28;01mFalse\u001b[39;00m, mask)\n\u001b[0;32m    126\u001b[0m     \u001b[38;5;28;01mif\u001b[39;00m mask\u001b[38;5;241m.\u001b[39many():\n\u001b[1;32m--> 127\u001b[0m         result[mask] \u001b[38;5;241m=\u001b[39m \u001b[43mop\u001b[49m\u001b[43m(\u001b[49m\u001b[43mxrav\u001b[49m\u001b[43m[\u001b[49m\u001b[43mmask\u001b[49m\u001b[43m]\u001b[49m\u001b[43m,\u001b[49m\u001b[43m \u001b[49m\u001b[43my\u001b[49m\u001b[43m)\u001b[49m\n\u001b[0;32m    129\u001b[0m np\u001b[38;5;241m.\u001b[39mputmask(result, \u001b[38;5;241m~\u001b[39mmask, np\u001b[38;5;241m.\u001b[39mnan)\n\u001b[0;32m    130\u001b[0m result \u001b[38;5;241m=\u001b[39m result\u001b[38;5;241m.\u001b[39mreshape(x\u001b[38;5;241m.\u001b[39mshape)  \u001b[38;5;66;03m# 2D compat\u001b[39;00m\n",
      "\u001b[1;31mTypeError\u001b[0m: can only concatenate str (not \"int\") to str"
     ]
    }
   ],
   "source": [
    "row+=1"
   ]
  },
  {
   "cell_type": "code",
   "execution_count": 116,
   "id": "f1a416c7",
   "metadata": {},
   "outputs": [
    {
     "data": {
      "text/plain": [
       "0"
      ]
     },
     "execution_count": 116,
     "metadata": {},
     "output_type": "execute_result"
    }
   ],
   "source": [
    "worksheet.write(2,0,'2022-02-12')\n",
    "worksheet.write(2, 1, total_per)\n",
    "worksheet.write(2,2, per_dir_str_match )\n",
    "worksheet.write(2, 3, n_gram_str_match)\n",
    "worksheet.write(2, 4, n_gram_success_percentage_3)\n",
    "worksheet.write(2, 5, n_gram_failure_percentage_3)\n",
    "worksheet.write(2, 6, n_gram_success_percentage_4)\n",
    "worksheet.write(2, 7, n_gram_failure_percentage_4)\n",
    "worksheet.write(2, 8, Attendance_count )\n",
    "worksheet.write(2, 9, direct_string_match)\n",
    "worksheet.write(2, 10, count_n_gram_match)\n",
    "worksheet.write(2, 11, n_gram_success_count_3)\n",
    "worksheet.write(2, 12, n_gram_failure_count_3)\n",
    "worksheet.write(2, 13, n_gram_success_count_4)\n",
    "worksheet.write(2, 14, n_gram_failure_count_4)"
   ]
  },
  {
   "cell_type": "code",
   "execution_count": 117,
   "id": "12cf68b0",
   "metadata": {},
   "outputs": [],
   "source": [
    "workbook.close()"
   ]
  },
  {
   "cell_type": "code",
   "execution_count": null,
   "id": "b1a3b6f5",
   "metadata": {},
   "outputs": [],
   "source": []
  }
 ],
 "metadata": {
  "kernelspec": {
   "display_name": "Python 3 (ipykernel)",
   "language": "python",
   "name": "python3"
  },
  "language_info": {
   "codemirror_mode": {
    "name": "ipython",
    "version": 3
   },
   "file_extension": ".py",
   "mimetype": "text/x-python",
   "name": "python",
   "nbconvert_exporter": "python",
   "pygments_lexer": "ipython3",
   "version": "3.10.3"
  }
 },
 "nbformat": 4,
 "nbformat_minor": 5
}
