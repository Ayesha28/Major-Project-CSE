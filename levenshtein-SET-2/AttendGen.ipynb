{
 "cells": [
  {
   "cell_type": "code",
   "execution_count": 54,
   "id": "ebeff9a6",
   "metadata": {},
   "outputs": [],
   "source": [
    "from pathlib import Path"
   ]
  },
  {
   "cell_type": "code",
   "execution_count": 55,
   "id": "15b6b614",
   "metadata": {},
   "outputs": [
    {
     "name": "stdout",
     "output_type": "stream",
     "text": [
      "   SrNo                     Full Name       Roll No\n",
      "0     1             RITWIKA PANIGRAHI  190101120001\n",
      "1     2  CHENNAKESAVULA SUMANTH KUMAR  190101120002\n",
      "2     3                  GONDU GANESH  190101120003\n",
      "3     4                    ISHA RAUTO  190101120004\n",
      "4     5                  YEDURU ASHOK  190101120005\n"
     ]
    }
   ],
   "source": [
    "import pandas as pd\n",
    "from pandas import read_excel\n",
    "my_sheet = 'Sheet1' # change it to your sheet name, you can find your sheet name at the bottom left of your excel file\n",
    "file_name = 'MasterStudentList.xlsx' # change it to the name of your excel file\n",
    "df = read_excel(file_name, sheet_name = my_sheet)\n",
    "print(df.head()) # shows headers with top 5 rows\n"
   ]
  },
  {
   "cell_type": "code",
   "execution_count": 56,
   "id": "0e97256b",
   "metadata": {},
   "outputs": [
    {
     "name": "stdout",
     "output_type": "stream",
     "text": [
      "  Attendance bot: dev(Pavan:p2pdops@gmail.com) on 2021-08-25 : 11:48: https://meet.google.com/msf-vyyu-ece  \\\n",
      "0                                                NaN                                                         \n",
      "1                               Members present : 92                                                         \n",
      "2                                                NaN                                                         \n",
      "3                                                NaN                                                         \n",
      "4                                           Attendee                                                         \n",
      "5                                    DR. DILLIP ROUT                                                         \n",
      "6                                     ADITYA CHAUBEY                                                         \n",
      "7                                       AJAY PRADHAN                                                         \n",
      "8                                         AMIT KUMAR                                                         \n",
      "9                                 ASHUTOSH MOHAPATRA                                                         \n",
      "\n",
      "  Unnamed: 1 Unnamed: 2 Unnamed: 3 Unnamed: 4  \n",
      "0        NaN        NaN        NaN        NaN  \n",
      "1        NaN        NaN        NaN        NaN  \n",
      "2        NaN        NaN        NaN        NaN  \n",
      "3        NaN        NaN        NaN        NaN  \n",
      "4      Score   10:46 AM   10:48 AM   11:47 AM  \n",
      "5        3/3          ✅          ✅          ✅  \n",
      "6        3/3          ✅          ✅          ✅  \n",
      "7        3/3          ✅          ✅          ✅  \n",
      "8        3/3          ✅          ✅          ✅  \n",
      "9        3/3          ✅          ✅          ✅  \n",
      "Index(['Attendance bot: dev(Pavan:p2pdops@gmail.com) on 2021-08-25 : 11:48: https://meet.google.com/msf-vyyu-ece',\n",
      "       'Unnamed: 1', 'Unnamed: 2', 'Unnamed: 3', 'Unnamed: 4'],\n",
      "      dtype='object')\n"
     ]
    }
   ],
   "source": [
    "from pandas import read_excel\n",
    "my_sheet = 'Attendance' # change it to your sheet name, you can find your sheet name at the bottom left of your excel file\n",
    "file_name = '2021-08-25.xlsx' # change it to the name of your excel file\n",
    "df_d = read_excel(file_name, sheet_name = my_sheet)\n",
    "print(df_d.head(10)) # shows headers with top 5 rows\n",
    "print(df_d.columns)\n"
   ]
  },
  {
   "cell_type": "code",
   "execution_count": 57,
   "id": "3c561bbe",
   "metadata": {},
   "outputs": [],
   "source": [
    "df_names = pd.DataFrame()\n",
    "df_names['Names'] = df_d.iloc[6:,0]"
   ]
  },
  {
   "cell_type": "code",
   "execution_count": 58,
   "id": "94f3fc37",
   "metadata": {},
   "outputs": [
    {
     "data": {
      "text/plain": [
       "6         ADITYA CHAUBEY\n",
       "7           AJAY PRADHAN\n",
       "8             AMIT KUMAR\n",
       "9     ASHUTOSH MOHAPATRA\n",
       "10           BABLU KUMAR\n",
       "             ...        \n",
       "93        TARINI SIRISHA\n",
       "94           VOONA NIDHI\n",
       "95       VYSYARAJU NIKHI\n",
       "96       VYSYARAJU TARUN\n",
       "97                   NaN\n",
       "Name: Names, Length: 92, dtype: object"
      ]
     },
     "execution_count": 58,
     "metadata": {},
     "output_type": "execute_result"
    }
   ],
   "source": [
    "df_names['Names'] = df_names['Names'].str.upper()\n",
    "df_names['Names']"
   ]
  },
  {
   "cell_type": "code",
   "execution_count": 59,
   "id": "173afb1f",
   "metadata": {},
   "outputs": [
    {
     "data": {
      "text/plain": [
       "0                      NaN\n",
       "1     Members present : 92\n",
       "2                      NaN\n",
       "3                      NaN\n",
       "4                 Attendee\n",
       "              ...         \n",
       "93          TARINI SIRISHA\n",
       "94             VOONA NIDHI\n",
       "95         VYSYARAJU NIKHI\n",
       "96         VYSYARAJU TARUN\n",
       "97                     NaN\n",
       "Name: Attendance bot: dev(Pavan:p2pdops@gmail.com) on 2021-08-25 : 11:48: https://meet.google.com/msf-vyyu-ece, Length: 98, dtype: object"
      ]
     },
     "execution_count": 59,
     "metadata": {},
     "output_type": "execute_result"
    }
   ],
   "source": [
    "df_d.iloc[:, 0]"
   ]
  },
  {
   "cell_type": "code",
   "execution_count": 60,
   "id": "79179c51",
   "metadata": {},
   "outputs": [
    {
     "data": {
      "text/html": [
       "<div>\n",
       "<style scoped>\n",
       "    .dataframe tbody tr th:only-of-type {\n",
       "        vertical-align: middle;\n",
       "    }\n",
       "\n",
       "    .dataframe tbody tr th {\n",
       "        vertical-align: top;\n",
       "    }\n",
       "\n",
       "    .dataframe thead th {\n",
       "        text-align: right;\n",
       "    }\n",
       "</style>\n",
       "<table border=\"1\" class=\"dataframe\">\n",
       "  <thead>\n",
       "    <tr style=\"text-align: right;\">\n",
       "      <th></th>\n",
       "      <th>Name</th>\n",
       "    </tr>\n",
       "  </thead>\n",
       "  <tbody>\n",
       "  </tbody>\n",
       "</table>\n",
       "</div>"
      ],
      "text/plain": [
       "Empty DataFrame\n",
       "Columns: [Name]\n",
       "Index: []"
      ]
     },
     "execution_count": 60,
     "metadata": {},
     "output_type": "execute_result"
    }
   ],
   "source": [
    "df_result = pd.DataFrame(columns=['Name','RedgNo']) #create an empty dataframe\n",
    "df_result.head()\n",
    "df_failures = pd.DataFrame(columns=['Name']) #create an empty dataframe\n",
    "df_failures.head()"
   ]
  },
  {
   "cell_type": "code",
   "execution_count": 61,
   "id": "7b7d8394",
   "metadata": {},
   "outputs": [],
   "source": [
    "for index, row in df_names.iterrows():\n",
    "    #print(row[0])\n",
    "    dfx = df[df['Full Name'] == row[0]]\n",
    "    if(dfx.shape[0] > 0):\n",
    "        #print(dfx.values[0][1], dfx.values[0][2])\n",
    "        dfRow = {'Name': row[0], 'RedgNo': dfx.values[0][2]}\n",
    "        #display(dfRow)\n",
    "        df_result = df_result.append(dfRow, ignore_index = True)\n",
    "        #display(df_result)\n",
    "    else:\n",
    "        dfRow = {'Name': row[0]}\n",
    "        df_failures = df_failures.append(dfRow, ignore_index = True)"
   ]
  },
  {
   "cell_type": "code",
   "execution_count": 62,
   "id": "1aba3f2e",
   "metadata": {},
   "outputs": [
    {
     "data": {
      "text/html": [
       "<div>\n",
       "<style scoped>\n",
       "    .dataframe tbody tr th:only-of-type {\n",
       "        vertical-align: middle;\n",
       "    }\n",
       "\n",
       "    .dataframe tbody tr th {\n",
       "        vertical-align: top;\n",
       "    }\n",
       "\n",
       "    .dataframe thead th {\n",
       "        text-align: right;\n",
       "    }\n",
       "</style>\n",
       "<table border=\"1\" class=\"dataframe\">\n",
       "  <thead>\n",
       "    <tr style=\"text-align: right;\">\n",
       "      <th></th>\n",
       "      <th>Name</th>\n",
       "      <th>RedgNo</th>\n",
       "    </tr>\n",
       "  </thead>\n",
       "  <tbody>\n",
       "    <tr>\n",
       "      <th>0</th>\n",
       "      <td>ADITYA CHAUBEY</td>\n",
       "      <td>190301250006</td>\n",
       "    </tr>\n",
       "    <tr>\n",
       "      <th>1</th>\n",
       "      <td>AMIT KUMAR</td>\n",
       "      <td>190101120110</td>\n",
       "    </tr>\n",
       "    <tr>\n",
       "      <th>2</th>\n",
       "      <td>ASHUTOSH MOHAPATRA</td>\n",
       "      <td>190301120013</td>\n",
       "    </tr>\n",
       "    <tr>\n",
       "      <th>3</th>\n",
       "      <td>BABLU KUMAR</td>\n",
       "      <td>190101120094</td>\n",
       "    </tr>\n",
       "    <tr>\n",
       "      <th>4</th>\n",
       "      <td>BHARATH PRADHAN</td>\n",
       "      <td>190101120007</td>\n",
       "    </tr>\n",
       "  </tbody>\n",
       "</table>\n",
       "</div>"
      ],
      "text/plain": [
       "                 Name        RedgNo\n",
       "0      ADITYA CHAUBEY  190301250006\n",
       "1          AMIT KUMAR  190101120110\n",
       "2  ASHUTOSH MOHAPATRA  190301120013\n",
       "3         BABLU KUMAR  190101120094\n",
       "4     BHARATH PRADHAN  190101120007"
      ]
     },
     "execution_count": 62,
     "metadata": {},
     "output_type": "execute_result"
    }
   ],
   "source": [
    "df_result.head()"
   ]
  },
  {
   "cell_type": "code",
   "execution_count": 63,
   "id": "84e24b9c",
   "metadata": {},
   "outputs": [
    {
     "data": {
      "text/plain": [
       "(73, 2)"
      ]
     },
     "execution_count": 63,
     "metadata": {},
     "output_type": "execute_result"
    }
   ],
   "source": [
    "df_result.shape"
   ]
  },
  {
   "cell_type": "code",
   "execution_count": 64,
   "id": "243c9258",
   "metadata": {},
   "outputs": [],
   "source": [
    "df_result = df_result.sort_values(by=['RedgNo'])"
   ]
  },
  {
   "cell_type": "code",
   "execution_count": 65,
   "id": "2fc1eee6",
   "metadata": {},
   "outputs": [],
   "source": [
    "df_result.to_csv(file_name.split('.')[0]+'.csv')"
   ]
  },
  {
   "cell_type": "code",
   "execution_count": 66,
   "id": "915afd8a",
   "metadata": {},
   "outputs": [
    {
     "name": "stdout",
     "output_type": "stream",
     "text": [
      "2021-08-25\n"
     ]
    }
   ],
   "source": [
    "print(file_name.split('.')[0])"
   ]
  },
  {
   "cell_type": "code",
   "execution_count": 67,
   "id": "bd265d34",
   "metadata": {},
   "outputs": [],
   "source": [
    "df_failures = df_failures.sort_values(by=['Name'])"
   ]
  },
  {
   "cell_type": "code",
   "execution_count": 68,
   "id": "8b069a3d",
   "metadata": {},
   "outputs": [],
   "source": [
    "df_failures.to_csv(file_name.split('.')[0]+'-fail.csv')"
   ]
  },
  {
   "cell_type": "code",
   "execution_count": 74,
   "id": "e8b4b09b",
   "metadata": {},
   "outputs": [
    {
     "name": "stdout",
     "output_type": "stream",
     "text": [
      "Found!\n",
      "Found!\n"
     ]
    }
   ],
   "source": [
    "from re import search\n",
    "fullstring = \"VOONA SRI NIDHI\"\n",
    "substring = \"VOONA NIDHI\"\n",
    "\n",
    "sub = substring.split(' ')\n",
    "\n",
    "for i in range(len(sub)):\n",
    "    if sub[i] in fullstring:\n",
    "        print(\"Found!\")\n",
    "    else:\n",
    "        print(\"Not found!\")"
   ]
  },
  {
   "cell_type": "code",
   "execution_count": 1,
   "id": "95a71771",
   "metadata": {},
   "outputs": [
    {
     "name": "stdout",
     "output_type": "stream",
     "text": [
      "Partial Ratio 73\n",
      "Token Sort Ratio 88\n",
      "Token Set Ratio 88\n"
     ]
    },
    {
     "name": "stderr",
     "output_type": "stream",
     "text": [
      "/usr/local/lib/python3.7/dist-packages/fuzzywuzzy/fuzz.py:11: UserWarning: Using slow pure-python SequenceMatcher. Install python-Levenshtein to remove this warning\n",
      "  warnings.warn('Using slow pure-python SequenceMatcher. Install python-Levenshtein to remove this warning')\n"
     ]
    }
   ],
   "source": [
    "import fuzzywuzzy as fz\n",
    "from fuzzywuzzy import fuzz\n",
    "fullstring = \"VOONASRI NIDHI\"\n",
    "substring = \"VOONA NIDHI\"\n",
    "print('Partial Ratio', fuzz.partial_ratio(fullstring.lower(),substring.lower()))\n",
    "print('Token Sort Ratio', fuzz.token_sort_ratio(fullstring.lower(),substring.lower()))\n",
    "print('Token Set Ratio', fuzz.token_set_ratio(fullstring.lower(),substring.lower()))"
   ]
  },
  {
   "cell_type": "code",
   "execution_count": 2,
   "id": "3b280bdd",
   "metadata": {},
   "outputs": [
    {
     "name": "stdout",
     "output_type": "stream",
     "text": [
      "Partial Ratio 93\n",
      "Token Sort Ratio 65\n",
      "Token Set Ratio 65\n"
     ]
    }
   ],
   "source": [
    "fullstring = \"MEGHA KUMARI JHA\"\n",
    "substring = \"MEGHAKUMARI JHA\"\n",
    "print('Partial Ratio', fuzz.partial_ratio(fullstring.lower(),substring.lower()))\n",
    "print('Token Sort Ratio', fuzz.token_sort_ratio(fullstring.lower(),substring.lower()))\n",
    "print('Token Set Ratio', fuzz.token_set_ratio(fullstring.lower(),substring.lower()))"
   ]
  },
  {
   "cell_type": "code",
   "execution_count": 9,
   "id": "d12d2431",
   "metadata": {},
   "outputs": [
    {
     "name": "stdout",
     "output_type": "stream",
     "text": [
      "Partial Ratio 71\n",
      "Token Sort Ratio 78\n",
      "Token Set Ratio 100\n"
     ]
    }
   ],
   "source": [
    "fullstring = \"ANUKULA BISWAL\"\n",
    "substring = \"ANUKULA CHANDRA BISWAL\"\n",
    "print('Partial Ratio', fuzz.partial_ratio(fullstring.lower(),substring.lower()))\n",
    "print('Token Sort Ratio', fuzz.token_sort_ratio(fullstring.lower(),substring.lower()))\n",
    "print('Token Set Ratio', fuzz.token_set_ratio(fullstring.lower(),substring.lower()))"
   ]
  },
  {
   "cell_type": "code",
   "execution_count": 3,
   "id": "3231f093",
   "metadata": {},
   "outputs": [
    {
     "name": "stdout",
     "output_type": "stream",
     "text": [
      "Partial Ratio 79\n",
      "Token Sort Ratio 82\n",
      "Token Set Ratio 100\n"
     ]
    }
   ],
   "source": [
    "fullstring = \"ANUKULA BISWAL\"\n",
    "substring = \"ANUKULA KUMAR BISWAL\"\n",
    "print('Partial Ratio', fuzz.partial_ratio(fullstring.lower(),substring.lower()))\n",
    "print('Token Sort Ratio', fuzz.token_sort_ratio(fullstring.lower(),substring.lower()))\n",
    "print('Token Set Ratio', fuzz.token_set_ratio(fullstring.lower(),substring.lower()))"
   ]
  },
  {
   "cell_type": "code",
   "execution_count": 11,
   "id": "a84c688b",
   "metadata": {},
   "outputs": [
    {
     "name": "stdout",
     "output_type": "stream",
     "text": [
      "Partial Ratio 87\n",
      "Token Sort Ratio 46\n",
      "Token Set Ratio 77\n"
     ]
    }
   ],
   "source": [
    "fullstring = \"ANUKULA BISWAL\"\n",
    "substring = \"KUMAR BISWAL\"\n",
    "print('Partial Ratio', fuzz.partial_ratio(fullstring.lower(),substring.lower()))\n",
    "print('Token Sort Ratio', fuzz.token_sort_ratio(fullstring.lower(),substring.lower()))\n",
    "print('Token Set Ratio', fuzz.token_set_ratio(fullstring.lower(),substring.lower()))"
   ]
  },
  {
   "cell_type": "code",
   "execution_count": 4,
   "id": "1e11143f",
   "metadata": {},
   "outputs": [
    {
     "name": "stdout",
     "output_type": "stream",
     "text": [
      "Partial Ratio 67\n",
      "Token Sort Ratio 72\n",
      "Token Set Ratio 100\n"
     ]
    }
   ],
   "source": [
    "fullstring = \"MEGHA KUMARI JHA\"\n",
    "substring = \"MEGHA JHA\"\n",
    "print('Partial Ratio', fuzz.partial_ratio(fullstring.lower(),substring.lower()))\n",
    "print('Token Sort Ratio', fuzz.token_sort_ratio(fullstring.lower(),substring.lower()))\n",
    "print('Token Set Ratio', fuzz.token_set_ratio(fullstring.lower(),substring.lower()))"
   ]
  },
  {
   "cell_type": "code",
   "execution_count": 5,
   "id": "05465cf0",
   "metadata": {},
   "outputs": [
    {
     "name": "stdout",
     "output_type": "stream",
     "text": [
      "Partial Ratio 93\n",
      "Token Sort Ratio 87\n",
      "Token Set Ratio 92\n"
     ]
    }
   ],
   "source": [
    "fullstring = \"ADAPA GURU VENKAT\"\n",
    "substring = \"A. GURU VENKAT\"\n",
    "print('Partial Ratio', fuzz.partial_ratio(fullstring.lower(),substring.lower()))\n",
    "print('Token Sort Ratio', fuzz.token_sort_ratio(fullstring.lower(),substring.lower()))\n",
    "print('Token Set Ratio', fuzz.token_set_ratio(fullstring.lower(),substring.lower()))"
   ]
  },
  {
   "cell_type": "code",
   "execution_count": 6,
   "id": "66df7d89",
   "metadata": {},
   "outputs": [
    {
     "name": "stdout",
     "output_type": "stream",
     "text": [
      "Partial Ratio 57\n",
      "Token Sort Ratio 43\n",
      "Token Set Ratio 43\n"
     ]
    }
   ],
   "source": [
    "fullstring = \"POKALA VENKATA RAJYA PAVAN SHARMA\"\n",
    "substring = \"A. GURU VENKAT\"\n",
    "print('Partial Ratio', fuzz.partial_ratio(fullstring.lower(),substring.lower()))\n",
    "print('Token Sort Ratio', fuzz.token_sort_ratio(fullstring.lower(),substring.lower()))\n",
    "print('Token Set Ratio', fuzz.token_set_ratio(fullstring.lower(),substring.lower()))"
   ]
  },
  {
   "cell_type": "code",
   "execution_count": 7,
   "id": "e1020aba",
   "metadata": {},
   "outputs": [
    {
     "name": "stdout",
     "output_type": "stream",
     "text": [
      "Partial Ratio 57\n",
      "Token Sort Ratio 48\n",
      "Token Set Ratio 48\n"
     ]
    }
   ],
   "source": [
    "fullstring = \"ANUMANCHIPALLI VENKATA ADITYA\"\n",
    "substring = \"A. GURU VENKAT\"\n",
    "print('Partial Ratio', fuzz.partial_ratio(fullstring.lower(),substring.lower()))\n",
    "print('Token Sort Ratio', fuzz.token_sort_ratio(fullstring.lower(),substring.lower()))\n",
    "print('Token Set Ratio', fuzz.token_set_ratio(fullstring.lower(),substring.lower()))"
   ]
  },
  {
   "cell_type": "code",
   "execution_count": 8,
   "id": "b2d04bb5",
   "metadata": {},
   "outputs": [
    {
     "name": "stdout",
     "output_type": "stream",
     "text": [
      "Partial Ratio 75\n",
      "Token Sort Ratio 73\n",
      "Token Set Ratio 100\n"
     ]
    }
   ],
   "source": [
    "fullstring = \"AISHI ASHIRVAD MISHRA\"\n",
    "substring = \"AISHI MISHRA\"\n",
    "print('Partial Ratio', fuzz.partial_ratio(fullstring.lower(),substring.lower()))\n",
    "print('Token Sort Ratio', fuzz.token_sort_ratio(fullstring.lower(),substring.lower()))\n",
    "print('Token Set Ratio', fuzz.token_set_ratio(fullstring.lower(),substring.lower()))"
   ]
  },
  {
   "cell_type": "code",
   "execution_count": 9,
   "id": "4297bbc5",
   "metadata": {},
   "outputs": [
    {
     "name": "stdout",
     "output_type": "stream",
     "text": [
      "Partial Ratio 100\n",
      "Token Sort Ratio 44\n",
      "Token Set Ratio 100\n"
     ]
    }
   ],
   "source": [
    "fullstring = \"AISHI ASHIRVAD MISHRA\"\n",
    "substring = \"MISHRA\"\n",
    "print('Partial Ratio', fuzz.partial_ratio(fullstring.lower(),substring.lower()))\n",
    "print('Token Sort Ratio', fuzz.token_sort_ratio(fullstring.lower(),substring.lower()))\n",
    "print('Token Set Ratio', fuzz.token_set_ratio(fullstring.lower(),substring.lower()))"
   ]
  },
  {
   "cell_type": "code",
   "execution_count": 10,
   "id": "3508bb84",
   "metadata": {},
   "outputs": [
    {
     "name": "stdout",
     "output_type": "stream",
     "text": [
      "Partial Ratio 73\n",
      "Token Sort Ratio 56\n",
      "Token Set Ratio 71\n"
     ]
    }
   ],
   "source": [
    "fullstring = \"AISHI ASHIRVAD MISHRA\"\n",
    "substring = \"AJAY MISHRA\"\n",
    "print('Partial Ratio', fuzz.partial_ratio(fullstring.lower(),substring.lower()))\n",
    "print('Token Sort Ratio', fuzz.token_sort_ratio(fullstring.lower(),substring.lower()))\n",
    "print('Token Set Ratio', fuzz.token_set_ratio(fullstring.lower(),substring.lower()))"
   ]
  },
  {
   "cell_type": "code",
   "execution_count": 12,
   "id": "989204b3",
   "metadata": {},
   "outputs": [
    {
     "name": "stdout",
     "output_type": "stream",
     "text": [
      "Partial Ratio 34\n",
      "Token Sort Ratio 41\n",
      "Token Set Ratio 41\n"
     ]
    }
   ],
   "source": [
    "fullstring = \"AISHI ASHIRVAD MISHRA\"\n",
    "substring = \"AJAY KUMAR PRADHAN\"\n",
    "print('Partial Ratio', fuzz.partial_ratio(fullstring.lower(),substring.lower()))\n",
    "print('Token Sort Ratio', fuzz.token_sort_ratio(fullstring.lower(),substring.lower()))\n",
    "print('Token Set Ratio', fuzz.token_set_ratio(fullstring.lower(),substring.lower()))"
   ]
  },
  {
   "cell_type": "code",
   "execution_count": 13,
   "id": "a18ac3a8",
   "metadata": {},
   "outputs": [
    {
     "name": "stdout",
     "output_type": "stream",
     "text": [
      "Partial Ratio 67\n",
      "Token Sort Ratio 73\n",
      "Token Set Ratio 100\n"
     ]
    }
   ],
   "source": [
    "fullstring = \"SONALIKA SAPANPRIYA DEHURY\"\n",
    "substring = \"SONALIKA DEHURY\"\n",
    "print('Partial Ratio', fuzz.partial_ratio(fullstring.lower(),substring.lower()))\n",
    "print('Token Sort Ratio', fuzz.token_sort_ratio(fullstring.lower(),substring.lower()))\n",
    "print('Token Set Ratio', fuzz.token_set_ratio(fullstring.lower(),substring.lower()))"
   ]
  },
  {
   "cell_type": "code",
   "execution_count": null,
   "id": "dcfe21fb",
   "metadata": {},
   "outputs": [],
   "source": []
  }
 ],
 "metadata": {
  "kernelspec": {
   "display_name": "Python 3",
   "language": "python",
   "name": "python3"
  },
  "language_info": {
   "codemirror_mode": {
    "name": "ipython",
    "version": 3
   },
   "file_extension": ".py",
   "mimetype": "text/x-python",
   "name": "python",
   "nbconvert_exporter": "python",
   "pygments_lexer": "ipython3",
   "version": "3.7.10"
  }
 },
 "nbformat": 4,
 "nbformat_minor": 5
}
