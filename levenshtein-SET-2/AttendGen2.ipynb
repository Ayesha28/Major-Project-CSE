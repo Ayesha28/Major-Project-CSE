{
 "cells": [
  {
   "cell_type": "code",
   "execution_count": 1,
   "id": "ebeff9a6",
   "metadata": {},
   "outputs": [],
   "source": [
    "from pathlib import Path"
   ]
  },
  {
   "cell_type": "code",
   "execution_count": 2,
   "id": "f1c95d58",
   "metadata": {},
   "outputs": [],
   "source": [
    "input_file_name = '2021-10-16.xlsx'"
   ]
  },
  {
   "cell_type": "code",
   "execution_count": 3,
   "id": "0194affb",
   "metadata": {},
   "outputs": [],
   "source": [
    "# Dynamic Programming implementation of LCS problem\n",
    "  \n",
    "def lcs(X, Y):\n",
    "    # find the length of the strings\n",
    "    m = len(X)\n",
    "    n = len(Y)\n",
    "  \n",
    "    # declaring the array for storing the dp values\n",
    "    L = [[None]*(n + 1) for i in range(m + 1)]\n",
    "  \n",
    "    \"\"\"Following steps build L[m + 1][n + 1] in bottom up fashion\n",
    "    Note: L[i][j] contains length of LCS of X[0..i-1]\n",
    "    and Y[0..j-1]\"\"\"\n",
    "    for i in range(m + 1):\n",
    "        for j in range(n + 1):\n",
    "            if i == 0 or j == 0 :\n",
    "                L[i][j] = 0\n",
    "            elif X[i-1] == Y[j-1]:\n",
    "                L[i][j] = L[i-1][j-1]+1\n",
    "            else:\n",
    "                L[i][j] = max(L[i-1][j], L[i][j-1])\n",
    "  \n",
    "    # L[m][n] contains the length of LCS of X[0..n-1] & Y[0..m-1]\n",
    "    return L[m][n]\n",
    "# end of function lcs"
   ]
  },
  {
   "cell_type": "code",
   "execution_count": 4,
   "id": "bb459b64",
   "metadata": {},
   "outputs": [
    {
     "name": "stderr",
     "output_type": "stream",
     "text": [
      "/usr/local/lib/python3.7/dist-packages/fuzzywuzzy/fuzz.py:11: UserWarning: Using slow pure-python SequenceMatcher. Install python-Levenshtein to remove this warning\n",
      "  warnings.warn('Using slow pure-python SequenceMatcher. Install python-Levenshtein to remove this warning')\n"
     ]
    }
   ],
   "source": [
    "import fuzzywuzzy as fz\n",
    "from fuzzywuzzy import fuzz\n",
    "from re import search"
   ]
  },
  {
   "cell_type": "code",
   "execution_count": 5,
   "id": "15b6b614",
   "metadata": {},
   "outputs": [
    {
     "name": "stdout",
     "output_type": "stream",
     "text": [
      "   SrNo                     Full Name       Roll No\n",
      "0     1             RITWIKA PANIGRAHI  190101120001\n",
      "1     2  CHENNAKESAVULA SUMANTH KUMAR  190101120002\n",
      "2     3                  GONDU GANESH  190101120003\n",
      "3     4                    ISHA RAUTO  190101120004\n",
      "4     5                  YEDURU ASHOK  190101120005\n"
     ]
    }
   ],
   "source": [
    "import pandas as pd\n",
    "from pandas import read_excel\n",
    "my_sheet = 'Sheet1' # change it to your sheet name, you can find your sheet name at the bottom left of your excel file\n",
    "file_name = 'MasterStudentList.xlsx' # change it to the name of your excel file\n",
    "df = read_excel(file_name, sheet_name = my_sheet)\n",
    "print(df.head()) # shows headers with top 5 rows"
   ]
  },
  {
   "cell_type": "code",
   "execution_count": 6,
   "id": "992a62dd",
   "metadata": {},
   "outputs": [],
   "source": [
    "# Add the artificial column if it has been selected (Yes/No, default No)\n",
    "df['Selected'] = 'No'"
   ]
  },
  {
   "cell_type": "code",
   "execution_count": 7,
   "id": "0e97256b",
   "metadata": {},
   "outputs": [
    {
     "name": "stdout",
     "output_type": "stream",
     "text": [
      "  Attendance bot: dev(Pavan:p2pdops@gmail.com) on 2021-10-16 : 16:29: https://meet.google.com/fzs-iiid-dmr?pli=1  \\\n",
      "0                                                NaN                                                               \n",
      "1                               Members present : 66                                                               \n",
      "2                                                NaN                                                               \n",
      "3                                                NaN                                                               \n",
      "4                                           Attendee                                                               \n",
      "5                                    DR. DILLIP ROUT                                                               \n",
      "6                                     A. Guru Venkat                                                               \n",
      "7                                    Abhimanyu Kumar                                                               \n",
      "8                                       AISHI MISHRA                                                               \n",
      "9                             AMBEET KUMAR MOHAPATRA                                                               \n",
      "\n",
      "  Unnamed: 1 Unnamed: 2 Unnamed: 3 Unnamed: 4 Unnamed: 5 Unnamed: 6  \n",
      "0        NaN        NaN        NaN        NaN        NaN        NaN  \n",
      "1        NaN        NaN        NaN        NaN        NaN        NaN  \n",
      "2        NaN        NaN        NaN        NaN        NaN        NaN  \n",
      "3        NaN        NaN        NaN        NaN        NaN        NaN  \n",
      "4      Score    2:56 PM    3:00 PM    3:03 PM    3:36 PM    4:28 PM  \n",
      "5        5/5          ✅          ✅          ✅          ✅          ✅  \n",
      "6        5/5          ✅          ✅          ✅          ✅          ✅  \n",
      "7        5/5          ✅          ✅          ✅          ✅          ✅  \n",
      "8        5/5          ✅          ✅          ✅          ✅          ✅  \n",
      "9        5/5          ✅          ✅          ✅          ✅          ✅  \n",
      "Index(['Attendance bot: dev(Pavan:p2pdops@gmail.com) on 2021-10-16 : 16:29: https://meet.google.com/fzs-iiid-dmr?pli=1',\n",
      "       'Unnamed: 1', 'Unnamed: 2', 'Unnamed: 3', 'Unnamed: 4', 'Unnamed: 5',\n",
      "       'Unnamed: 6'],\n",
      "      dtype='object')\n"
     ]
    }
   ],
   "source": [
    "from pandas import read_excel\n",
    "my_sheet = 'Attendance' # change it to your sheet name, you can find your sheet name at the bottom left of your excel file\n",
    "file_name = input_file_name # change it to the name of your excel file\n",
    "df_d = read_excel(file_name, sheet_name = my_sheet)\n",
    "print(df_d.head(10)) # shows headers with top 5 rows\n",
    "print(df_d.columns)"
   ]
  },
  {
   "cell_type": "code",
   "execution_count": 8,
   "id": "3c561bbe",
   "metadata": {},
   "outputs": [
    {
     "data": {
      "text/plain": [
       "['A. Guru Venkat',\n",
       " 'Abhimanyu Kumar',\n",
       " 'AISHI MISHRA',\n",
       " 'AMBEET KUMAR MOHAPATRA',\n",
       " 'ARPITA SAHU',\n",
       " 'ASHUTOSH MOHAPATRA',\n",
       " 'BIKASH BARIK',\n",
       " 'BISWOJIT MANGARAJ',\n",
       " 'BUDITI RAKESH',\n",
       " 'CHELLI HARIKA',\n",
       " 'GONDU GANESH',\n",
       " 'ISHA RAUTO',\n",
       " 'JIYA SINGH',\n",
       " 'MEGHAKUMARI JHA',\n",
       " 'MONALISHA PRUSTY',\n",
       " 'MUNESH SUTAR',\n",
       " 'NIDHI KUMARI',\n",
       " 'POLAKI CHARAN',\n",
       " 'POTNURU VARUN',\n",
       " 'Pritam Kumar Nayak',\n",
       " 'Sandeep Kumar',\n",
       " 'SONU KUMAR',\n",
       " 'SOUMYA RANJAN SAHU',\n",
       " 'SUNKARI KRISHNAVENI',\n",
       " 'SURAJ BHARTI',\n",
       " 'URLANA MEGHANA',\n",
       " 'UTTAM KUMAR',\n",
       " 'AJAY PRADHAN',\n",
       " 'ANURAG KUMAR',\n",
       " 'Bonu Pavan Kumar',\n",
       " 'CHENNAKESAVULA KUMAR',\n",
       " 'DURGAMADHAB PANIGRAHI',\n",
       " 'KHUSHI KUMARI',\n",
       " 'MITHUN KUMAR',\n",
       " 'RAJAT KUMAR SEN',\n",
       " 'RITESH KUMAR PANDEY',\n",
       " 'SANA BHARGAVI',\n",
       " 'SANDEEP KUMAR',\n",
       " 'SMRITI KUMARI',\n",
       " 'SUBRAT DALAI',\n",
       " 'VEMPATI SHANKAR',\n",
       " 'JYOTI KUMARI',\n",
       " 'KARUSODU KUMAR',\n",
       " 'MD IMRAN ANJUM',\n",
       " 'ROHAN KUMAR',\n",
       " 'SANTOSH KUMAR KARAM',\n",
       " 'SHREYA SINGH',\n",
       " 'AMIT KUMAR',\n",
       " 'ANUMANCHIPALLI ADITYA',\n",
       " 'ARPANA SINHA',\n",
       " 'BANITA KUMARI PANIGRAHI',\n",
       " 'BHABESH DAS',\n",
       " 'BIBRUTI MOHANTY',\n",
       " 'MD SHAHID AKIL',\n",
       " 'NAV RATNA BADAL',\n",
       " 'Niteshkumar Sah',\n",
       " 'PRADHAN GANESH',\n",
       " 'PRATHIKYA DEVI',\n",
       " 'RAJ ARYAN',\n",
       " 'RISHIKANT TIWARI',\n",
       " 'SAMBEET PRABEET',\n",
       " 'Sasmita Mohanty',\n",
       " 'SONALIKA DEHURY',\n",
       " 'PULAKALA RAJESWARI',\n",
       " 'SANDEEP KUMAR SAHU']"
      ]
     },
     "execution_count": 8,
     "metadata": {},
     "output_type": "execute_result"
    }
   ],
   "source": [
    "namesList = (df_d.iloc[6:,0]).values.tolist()\n",
    "namesList = [x for x in namesList if str(x) != 'nan']\n",
    "namesList"
   ]
  },
  {
   "cell_type": "code",
   "execution_count": 9,
   "id": "94f3fc37",
   "metadata": {},
   "outputs": [
    {
     "data": {
      "text/plain": [
       "['A. GURU VENKAT',\n",
       " 'ABHIMANYU KUMAR',\n",
       " 'AISHI MISHRA',\n",
       " 'AMBEET KUMAR MOHAPATRA',\n",
       " 'ARPITA SAHU',\n",
       " 'ASHUTOSH MOHAPATRA',\n",
       " 'BIKASH BARIK',\n",
       " 'BISWOJIT MANGARAJ',\n",
       " 'BUDITI RAKESH',\n",
       " 'CHELLI HARIKA',\n",
       " 'GONDU GANESH',\n",
       " 'ISHA RAUTO',\n",
       " 'JIYA SINGH',\n",
       " 'MEGHAKUMARI JHA',\n",
       " 'MONALISHA PRUSTY',\n",
       " 'MUNESH SUTAR',\n",
       " 'NIDHI KUMARI',\n",
       " 'POLAKI CHARAN',\n",
       " 'POTNURU VARUN',\n",
       " 'PRITAM KUMAR NAYAK',\n",
       " 'SANDEEP KUMAR',\n",
       " 'SONU KUMAR',\n",
       " 'SOUMYA RANJAN SAHU',\n",
       " 'SUNKARI KRISHNAVENI',\n",
       " 'SURAJ BHARTI',\n",
       " 'URLANA MEGHANA',\n",
       " 'UTTAM KUMAR',\n",
       " 'AJAY PRADHAN',\n",
       " 'ANURAG KUMAR',\n",
       " 'BONU PAVAN KUMAR',\n",
       " 'CHENNAKESAVULA KUMAR',\n",
       " 'DURGAMADHAB PANIGRAHI',\n",
       " 'KHUSHI KUMARI',\n",
       " 'MITHUN KUMAR',\n",
       " 'RAJAT KUMAR SEN',\n",
       " 'RITESH KUMAR PANDEY',\n",
       " 'SANA BHARGAVI',\n",
       " 'SANDEEP KUMAR',\n",
       " 'SMRITI KUMARI',\n",
       " 'SUBRAT DALAI',\n",
       " 'VEMPATI SHANKAR',\n",
       " 'JYOTI KUMARI',\n",
       " 'KARUSODU KUMAR',\n",
       " 'MD IMRAN ANJUM',\n",
       " 'ROHAN KUMAR',\n",
       " 'SANTOSH KUMAR KARAM',\n",
       " 'SHREYA SINGH',\n",
       " 'AMIT KUMAR',\n",
       " 'ANUMANCHIPALLI ADITYA',\n",
       " 'ARPANA SINHA',\n",
       " 'BANITA KUMARI PANIGRAHI',\n",
       " 'BHABESH DAS',\n",
       " 'BIBRUTI MOHANTY',\n",
       " 'MD SHAHID AKIL',\n",
       " 'NAV RATNA BADAL',\n",
       " 'NITESHKUMAR SAH',\n",
       " 'PRADHAN GANESH',\n",
       " 'PRATHIKYA DEVI',\n",
       " 'RAJ ARYAN',\n",
       " 'RISHIKANT TIWARI',\n",
       " 'SAMBEET PRABEET',\n",
       " 'SASMITA MOHANTY',\n",
       " 'SONALIKA DEHURY',\n",
       " 'PULAKALA RAJESWARI',\n",
       " 'SANDEEP KUMAR SAHU']"
      ]
     },
     "execution_count": 9,
     "metadata": {},
     "output_type": "execute_result"
    }
   ],
   "source": [
    "namesList = [x.upper() for x in namesList]\n",
    "#namesList = list(map(lambda x:x.upper(), namesList))\n",
    "namesList"
   ]
  },
  {
   "cell_type": "code",
   "execution_count": 10,
   "id": "173afb1f",
   "metadata": {},
   "outputs": [
    {
     "data": {
      "text/plain": [
       "0                      NaN\n",
       "1     Members present : 66\n",
       "2                      NaN\n",
       "3                      NaN\n",
       "4                 Attendee\n",
       "              ...         \n",
       "67         Sasmita Mohanty\n",
       "68         SONALIKA DEHURY\n",
       "69      PULAKALA RAJESWARI\n",
       "70      SANDEEP KUMAR SAHU\n",
       "71                     NaN\n",
       "Name: Attendance bot: dev(Pavan:p2pdops@gmail.com) on 2021-10-16 : 16:29: https://meet.google.com/fzs-iiid-dmr?pli=1, Length: 72, dtype: object"
      ]
     },
     "execution_count": 10,
     "metadata": {},
     "output_type": "execute_result"
    }
   ],
   "source": [
    "df_d.iloc[:, 0]"
   ]
  },
  {
   "cell_type": "code",
   "execution_count": 11,
   "id": "79179c51",
   "metadata": {},
   "outputs": [],
   "source": [
    "df_result = pd.DataFrame(columns=['Name','RedgNo']) #create an empty dataframe\n",
    "df_result.head()\n",
    "failureList = list() #create an empty datafra"
   ]
  },
  {
   "cell_type": "code",
   "execution_count": 12,
   "id": "7b7d8394",
   "metadata": {},
   "outputs": [],
   "source": [
    "for name in namesList:\n",
    "    #print(row[0])\n",
    "    dfx = df[(df['Full Name']==name) & (df['Selected']=='No')]\n",
    "    if(dfx.shape[0] > 0):\n",
    "        #print(dfx.values[0][1], dfx.values[0][2])\n",
    "        dfRow = {'Name': name, 'RedgNo': dfx.values[0][2]}\n",
    "        #display(dfRow)\n",
    "        df_result = df_result.append(dfRow, ignore_index = True)\n",
    "        #display(df_result)\n",
    "        #df.loc[df['Roll No']== dfx['Roll No'], 'Selected'] = 'Yes'\n",
    "    else:\n",
    "        failureList.append(name)"
   ]
  },
  {
   "cell_type": "code",
   "execution_count": 13,
   "id": "1aba3f2e",
   "metadata": {},
   "outputs": [
    {
     "data": {
      "text/html": [
       "<div>\n",
       "<style scoped>\n",
       "    .dataframe tbody tr th:only-of-type {\n",
       "        vertical-align: middle;\n",
       "    }\n",
       "\n",
       "    .dataframe tbody tr th {\n",
       "        vertical-align: top;\n",
       "    }\n",
       "\n",
       "    .dataframe thead th {\n",
       "        text-align: right;\n",
       "    }\n",
       "</style>\n",
       "<table border=\"1\" class=\"dataframe\">\n",
       "  <thead>\n",
       "    <tr style=\"text-align: right;\">\n",
       "      <th></th>\n",
       "      <th>Name</th>\n",
       "      <th>RedgNo</th>\n",
       "    </tr>\n",
       "  </thead>\n",
       "  <tbody>\n",
       "    <tr>\n",
       "      <th>0</th>\n",
       "      <td>ABHIMANYU KUMAR</td>\n",
       "      <td>190101120128</td>\n",
       "    </tr>\n",
       "    <tr>\n",
       "      <th>1</th>\n",
       "      <td>AMBEET KUMAR MOHAPATRA</td>\n",
       "      <td>190301120039</td>\n",
       "    </tr>\n",
       "    <tr>\n",
       "      <th>2</th>\n",
       "      <td>ARPITA SAHU</td>\n",
       "      <td>190301120036</td>\n",
       "    </tr>\n",
       "    <tr>\n",
       "      <th>3</th>\n",
       "      <td>ASHUTOSH MOHAPATRA</td>\n",
       "      <td>190301120013</td>\n",
       "    </tr>\n",
       "    <tr>\n",
       "      <th>4</th>\n",
       "      <td>BIKASH BARIK</td>\n",
       "      <td>190301120075</td>\n",
       "    </tr>\n",
       "  </tbody>\n",
       "</table>\n",
       "</div>"
      ],
      "text/plain": [
       "                     Name        RedgNo\n",
       "0         ABHIMANYU KUMAR  190101120128\n",
       "1  AMBEET KUMAR MOHAPATRA  190301120039\n",
       "2             ARPITA SAHU  190301120036\n",
       "3      ASHUTOSH MOHAPATRA  190301120013\n",
       "4            BIKASH BARIK  190301120075"
      ]
     },
     "execution_count": 13,
     "metadata": {},
     "output_type": "execute_result"
    }
   ],
   "source": [
    "df_result.head()"
   ]
  },
  {
   "cell_type": "code",
   "execution_count": 14,
   "id": "84e24b9c",
   "metadata": {},
   "outputs": [
    {
     "data": {
      "text/plain": [
       "(51, 2)"
      ]
     },
     "execution_count": 14,
     "metadata": {},
     "output_type": "execute_result"
    }
   ],
   "source": [
    "df_result.shape"
   ]
  },
  {
   "cell_type": "code",
   "execution_count": 15,
   "id": "34070aab",
   "metadata": {},
   "outputs": [
    {
     "data": {
      "text/plain": [
       "['A. GURU VENKAT',\n",
       " 'AISHI MISHRA',\n",
       " 'MEGHAKUMARI JHA',\n",
       " 'POLAKI CHARAN',\n",
       " 'AJAY PRADHAN',\n",
       " 'CHENNAKESAVULA KUMAR',\n",
       " 'VEMPATI SHANKAR',\n",
       " 'KARUSODU KUMAR',\n",
       " 'MD IMRAN ANJUM',\n",
       " 'ANUMANCHIPALLI ADITYA',\n",
       " 'NAV RATNA BADAL',\n",
       " 'NITESHKUMAR SAH',\n",
       " 'PRATHIKYA DEVI',\n",
       " 'SONALIKA DEHURY']"
      ]
     },
     "execution_count": 15,
     "metadata": {},
     "output_type": "execute_result"
    }
   ],
   "source": [
    "failureList"
   ]
  },
  {
   "cell_type": "code",
   "execution_count": 16,
   "id": "8a087b01",
   "metadata": {},
   "outputs": [
    {
     "data": {
      "text/plain": [
       "(127, 4)"
      ]
     },
     "execution_count": 16,
     "metadata": {},
     "output_type": "execute_result"
    }
   ],
   "source": [
    "df_remainder = df[df['Selected']=='No']\n",
    "df_remainder.shape"
   ]
  },
  {
   "cell_type": "code",
   "execution_count": 17,
   "id": "4c9cd808",
   "metadata": {},
   "outputs": [
    {
     "name": "stdout",
     "output_type": "stream",
     "text": [
      "name AISHI MISHRA full name AISHI ASHIRVAD MISHRA\n"
     ]
    },
    {
     "name": "stderr",
     "output_type": "stream",
     "text": [
      "/usr/local/lib/python3.7/dist-packages/ipykernel_launcher.py:19: SettingWithCopyWarning: \n",
      "A value is trying to be set on a copy of a slice from a DataFrame\n",
      "\n",
      "See the caveats in the documentation: https://pandas.pydata.org/pandas-docs/stable/user_guide/indexing.html#returning-a-view-versus-a-copy\n"
     ]
    },
    {
     "name": "stdout",
     "output_type": "stream",
     "text": [
      "name POLAKI CHARAN full name POLAKI DEVI CHARAN\n",
      "name AJAY PRADHAN full name AJAY KUMAR PRADHAN\n",
      "name CHENNAKESAVULA KUMAR full name CHENNAKESAVULA SUMANTH KUMAR\n",
      "name VEMPATI SHANKAR full name VEMPATI JAYA SHANKAR\n",
      "name ANUMANCHIPALLI ADITYA full name ANUMANCHIPALLI VENKATA ADITYA\n",
      "name SONALIKA DEHURY full name SONALIKA SAPANPRIYA DEHURY\n"
     ]
    }
   ],
   "source": [
    "successList = list()\n",
    "for name in failureList:\n",
    "    flag = False\n",
    "    for ind in df_remainder.index:\n",
    "        if df_remainder['Selected'][ind] == 'Yes':\n",
    "            continue\n",
    "        #print(df_remainder['Full Name'][ind], df_remainder['Stream'][ind])\n",
    "        lcsScore = lcs(df_remainder['Full Name'][ind], name)/len(name)\n",
    "        partialRatio = fuzz.partial_ratio(df_remainder['Full Name'][ind], name) / 100\n",
    "        tokenSortRatio = fuzz.token_sort_ratio(df_remainder['Full Name'][ind], name) / 100\n",
    "        tokenSortRatio = fuzz.token_set_ratio(df_remainder['Full Name'][ind], name) / 100\n",
    "        \n",
    "        if (lcsScore == 1 and tokenSortRatio == 1):\n",
    "            print('name', name, 'full name', df_remainder['Full Name'][ind])\n",
    "            dfRow = {'Name': name, 'RedgNo': df_remainder['Roll No'][ind]}\n",
    "            #display(dfRow)\n",
    "            df_result = df_result.append(dfRow, ignore_index = True)\n",
    "            flag = True\n",
    "            df_remainder['Selected'][ind] = 'Yes'\n",
    "            break\n",
    "    if flag == True:\n",
    "        successList.append(name)"
   ]
  },
  {
   "cell_type": "code",
   "execution_count": 18,
   "id": "a15942dd",
   "metadata": {},
   "outputs": [
    {
     "name": "stdout",
     "output_type": "stream",
     "text": [
      "['KARUSODU KUMAR', 'NAV RATNA BADAL', 'PRATHIKYA DEVI', 'NITESHKUMAR SAH', 'MEGHAKUMARI JHA', 'A. GURU VENKAT', 'MD IMRAN ANJUM']\n"
     ]
    }
   ],
   "source": [
    "failureList = list(set(failureList) - set(successList))\n",
    "if len(failureList) > 0:\n",
    "    print(failureList)\n",
    "    df_remainder = df_remainder[df_remainder['Selected']=='No']"
   ]
  },
  {
   "cell_type": "code",
   "execution_count": 19,
   "id": "243c9258",
   "metadata": {},
   "outputs": [],
   "source": [
    "df_result = df_result.sort_values(by=['RedgNo'])"
   ]
  },
  {
   "cell_type": "code",
   "execution_count": 20,
   "id": "2fc1eee6",
   "metadata": {},
   "outputs": [],
   "source": [
    "df_result.to_csv(file_name.split('.')[0]+'.csv')"
   ]
  },
  {
   "cell_type": "code",
   "execution_count": 21,
   "id": "915afd8a",
   "metadata": {},
   "outputs": [
    {
     "name": "stdout",
     "output_type": "stream",
     "text": [
      "2021-10-16\n"
     ]
    }
   ],
   "source": [
    "print(file_name.split('.')[0])"
   ]
  },
  {
   "cell_type": "code",
   "execution_count": 22,
   "id": "bd265d34",
   "metadata": {},
   "outputs": [
    {
     "data": {
      "text/plain": [
       "120"
      ]
     },
     "execution_count": 22,
     "metadata": {},
     "output_type": "execute_result"
    }
   ],
   "source": [
    "df_remainder.shape[0]"
   ]
  },
  {
   "cell_type": "code",
   "execution_count": 23,
   "id": "8b069a3d",
   "metadata": {},
   "outputs": [],
   "source": [
    "with open(file_name.split('.')[0]+'-failures.csv', \"w\") as outfile:\n",
    "    outfile.write(\"\\n\".join(failureList))"
   ]
  },
  {
   "cell_type": "code",
   "execution_count": 24,
   "id": "cc1519e5",
   "metadata": {},
   "outputs": [
    {
     "data": {
      "text/plain": [
       "['KARUSODU KUMAR',\n",
       " 'NAV RATNA BADAL',\n",
       " 'PRATHIKYA DEVI',\n",
       " 'NITESHKUMAR SAH',\n",
       " 'MEGHAKUMARI JHA',\n",
       " 'A. GURU VENKAT',\n",
       " 'MD IMRAN ANJUM']"
      ]
     },
     "execution_count": 24,
     "metadata": {},
     "output_type": "execute_result"
    }
   ],
   "source": [
    "failureList"
   ]
  },
  {
   "cell_type": "code",
   "execution_count": 38,
   "id": "e8b4b09b",
   "metadata": {},
   "outputs": [
    {
     "name": "stdout",
     "output_type": "stream",
     "text": [
      "Found!\n",
      "Found!\n"
     ]
    }
   ],
   "source": [
    "from re import search\n",
    "fullstring = \"VOONA SRI NIDHI\"\n",
    "substring = \"VOONA NIDHI\"\n",
    "\n",
    "sub = substring.split(' ')\n",
    "\n",
    "for i in range(len(sub)):\n",
    "    if sub[i] in fullstring:\n",
    "        print(\"Found!\")\n",
    "    else:\n",
    "        print(\"Not found!\")"
   ]
  },
  {
   "cell_type": "code",
   "execution_count": 39,
   "id": "95a71771",
   "metadata": {},
   "outputs": [
    {
     "name": "stdout",
     "output_type": "stream",
     "text": [
      "Partial Ratio 73\n",
      "Token Sort Ratio 88\n",
      "Token Set Ratio 88\n"
     ]
    }
   ],
   "source": [
    "import fuzzywuzzy as fz\n",
    "from fuzzywuzzy import fuzz\n",
    "fullstring = \"VOONASRI NIDHI\"\n",
    "substring = \"VOONA NIDHI\"\n",
    "print('Partial Ratio', fuzz.partial_ratio(fullstring.lower(),substring.lower()))\n",
    "print('Token Sort Ratio', fuzz.token_sort_ratio(fullstring.lower(),substring.lower()))\n",
    "print('Token Set Ratio', fuzz.token_set_ratio(fullstring.lower(),substring.lower()))"
   ]
  },
  {
   "cell_type": "code",
   "execution_count": 2,
   "id": "3b280bdd",
   "metadata": {},
   "outputs": [
    {
     "name": "stdout",
     "output_type": "stream",
     "text": [
      "Partial Ratio 93\n",
      "Token Sort Ratio 65\n",
      "Token Set Ratio 65\n"
     ]
    }
   ],
   "source": [
    "fullstring = \"MEGHA KUMARI JHA\"\n",
    "substring = \"MEGHAKUMARI JHA\"\n",
    "print('Partial Ratio', fuzz.partial_ratio(fullstring.lower(),substring.lower()))\n",
    "print('Token Sort Ratio', fuzz.token_sort_ratio(fullstring.lower(),substring.lower()))\n",
    "print('Token Set Ratio', fuzz.token_set_ratio(fullstring.lower(),substring.lower()))"
   ]
  },
  {
   "cell_type": "code",
   "execution_count": 9,
   "id": "d12d2431",
   "metadata": {},
   "outputs": [
    {
     "name": "stdout",
     "output_type": "stream",
     "text": [
      "Partial Ratio 71\n",
      "Token Sort Ratio 78\n",
      "Token Set Ratio 100\n"
     ]
    }
   ],
   "source": [
    "fullstring = \"ANUKULA BISWAL\"\n",
    "substring = \"ANUKULA CHANDRA BISWAL\"\n",
    "print('Partial Ratio', fuzz.partial_ratio(fullstring.lower(),substring.lower()))\n",
    "print('Token Sort Ratio', fuzz.token_sort_ratio(fullstring.lower(),substring.lower()))\n",
    "print('Token Set Ratio', fuzz.token_set_ratio(fullstring.lower(),substring.lower()))"
   ]
  },
  {
   "cell_type": "code",
   "execution_count": 3,
   "id": "3231f093",
   "metadata": {},
   "outputs": [
    {
     "name": "stdout",
     "output_type": "stream",
     "text": [
      "Partial Ratio 79\n",
      "Token Sort Ratio 82\n",
      "Token Set Ratio 100\n"
     ]
    }
   ],
   "source": [
    "fullstring = \"ANUKULA BISWAL\"\n",
    "substring = \"ANUKULA KUMAR BISWAL\"\n",
    "print('Partial Ratio', fuzz.partial_ratio(fullstring.lower(),substring.lower()))\n",
    "print('Token Sort Ratio', fuzz.token_sort_ratio(fullstring.lower(),substring.lower()))\n",
    "print('Token Set Ratio', fuzz.token_set_ratio(fullstring.lower(),substring.lower()))"
   ]
  },
  {
   "cell_type": "code",
   "execution_count": 11,
   "id": "a84c688b",
   "metadata": {},
   "outputs": [
    {
     "name": "stdout",
     "output_type": "stream",
     "text": [
      "Partial Ratio 87\n",
      "Token Sort Ratio 46\n",
      "Token Set Ratio 77\n"
     ]
    }
   ],
   "source": [
    "fullstring = \"ANUKULA BISWAL\"\n",
    "substring = \"KUMAR BISWAL\"\n",
    "print('Partial Ratio', fuzz.partial_ratio(fullstring.lower(),substring.lower()))\n",
    "print('Token Sort Ratio', fuzz.token_sort_ratio(fullstring.lower(),substring.lower()))\n",
    "print('Token Set Ratio', fuzz.token_set_ratio(fullstring.lower(),substring.lower()))"
   ]
  },
  {
   "cell_type": "code",
   "execution_count": 4,
   "id": "1e11143f",
   "metadata": {},
   "outputs": [
    {
     "name": "stdout",
     "output_type": "stream",
     "text": [
      "Partial Ratio 67\n",
      "Token Sort Ratio 72\n",
      "Token Set Ratio 100\n"
     ]
    }
   ],
   "source": [
    "fullstring = \"MEGHA KUMARI JHA\"\n",
    "substring = \"MEGHA JHA\"\n",
    "print('Partial Ratio', fuzz.partial_ratio(fullstring.lower(),substring.lower()))\n",
    "print('Token Sort Ratio', fuzz.token_sort_ratio(fullstring.lower(),substring.lower()))\n",
    "print('Token Set Ratio', fuzz.token_set_ratio(fullstring.lower(),substring.lower()))"
   ]
  },
  {
   "cell_type": "code",
   "execution_count": 5,
   "id": "05465cf0",
   "metadata": {},
   "outputs": [
    {
     "name": "stdout",
     "output_type": "stream",
     "text": [
      "Partial Ratio 93\n",
      "Token Sort Ratio 87\n",
      "Token Set Ratio 92\n"
     ]
    }
   ],
   "source": [
    "fullstring = \"ADAPA GURU VENKAT\"\n",
    "substring = \"A. GURU VENKAT\"\n",
    "print('Partial Ratio', fuzz.partial_ratio(fullstring.lower(),substring.lower()))\n",
    "print('Token Sort Ratio', fuzz.token_sort_ratio(fullstring.lower(),substring.lower()))\n",
    "print('Token Set Ratio', fuzz.token_set_ratio(fullstring.lower(),substring.lower()))"
   ]
  },
  {
   "cell_type": "code",
   "execution_count": 6,
   "id": "6d6cb582",
   "metadata": {},
   "outputs": [
    {
     "name": "stdout",
     "output_type": "stream",
     "text": [
      "Partial Ratio 57\n",
      "Token Sort Ratio 43\n",
      "Token Set Ratio 43\n"
     ]
    }
   ],
   "source": [
    "fullstring = \"POKALA VENKATA RAJYA PAVAN SHARMA\"\n",
    "substring = \"A. GURU VENKAT\"\n",
    "print('Partial Ratio', fuzz.partial_ratio(fullstring.lower(),substring.lower()))\n",
    "print('Token Sort Ratio', fuzz.token_sort_ratio(fullstring.lower(),substring.lower()))\n",
    "print('Token Set Ratio', fuzz.token_set_ratio(fullstring.lower(),substring.lower()))"
   ]
  },
  {
   "cell_type": "code",
   "execution_count": 7,
   "id": "1180e0c6",
   "metadata": {},
   "outputs": [
    {
     "name": "stdout",
     "output_type": "stream",
     "text": [
      "Partial Ratio 57\n",
      "Token Sort Ratio 48\n",
      "Token Set Ratio 48\n"
     ]
    }
   ],
   "source": [
    "fullstring = \"ANUMANCHIPALLI VENKATA ADITYA\"\n",
    "substring = \"A. GURU VENKAT\"\n",
    "print('Partial Ratio', fuzz.partial_ratio(fullstring.lower(),substring.lower()))\n",
    "print('Token Sort Ratio', fuzz.token_sort_ratio(fullstring.lower(),substring.lower()))\n",
    "print('Token Set Ratio', fuzz.token_set_ratio(fullstring.lower(),substring.lower()))"
   ]
  },
  {
   "cell_type": "code",
   "execution_count": 8,
   "id": "90845c2f",
   "metadata": {},
   "outputs": [
    {
     "name": "stdout",
     "output_type": "stream",
     "text": [
      "Partial Ratio 75\n",
      "Token Sort Ratio 73\n",
      "Token Set Ratio 100\n"
     ]
    }
   ],
   "source": [
    "fullstring = \"AISHI ASHIRVAD MISHRA\"\n",
    "substring = \"AISHI MISHRA\"\n",
    "print('Partial Ratio', fuzz.partial_ratio(fullstring.lower(),substring.lower()))\n",
    "print('Token Sort Ratio', fuzz.token_sort_ratio(fullstring.lower(),substring.lower()))\n",
    "print('Token Set Ratio', fuzz.token_set_ratio(fullstring.lower(),substring.lower()))"
   ]
  },
  {
   "cell_type": "code",
   "execution_count": 9,
   "id": "6d4d6da3",
   "metadata": {},
   "outputs": [
    {
     "name": "stdout",
     "output_type": "stream",
     "text": [
      "Partial Ratio 100\n",
      "Token Sort Ratio 44\n",
      "Token Set Ratio 100\n"
     ]
    }
   ],
   "source": [
    "fullstring = \"AISHI ASHIRVAD MISHRA\"\n",
    "substring = \"MISHRA\"\n",
    "print('Partial Ratio', fuzz.partial_ratio(fullstring.lower(),substring.lower()))\n",
    "print('Token Sort Ratio', fuzz.token_sort_ratio(fullstring.lower(),substring.lower()))\n",
    "print('Token Set Ratio', fuzz.token_set_ratio(fullstring.lower(),substring.lower()))"
   ]
  },
  {
   "cell_type": "code",
   "execution_count": 10,
   "id": "4b5e8253",
   "metadata": {},
   "outputs": [
    {
     "name": "stdout",
     "output_type": "stream",
     "text": [
      "Partial Ratio 73\n",
      "Token Sort Ratio 56\n",
      "Token Set Ratio 71\n"
     ]
    }
   ],
   "source": [
    "fullstring = \"AISHI ASHIRVAD MISHRA\"\n",
    "substring = \"AJAY MISHRA\"\n",
    "print('Partial Ratio', fuzz.partial_ratio(fullstring.lower(),substring.lower()))\n",
    "print('Token Sort Ratio', fuzz.token_sort_ratio(fullstring.lower(),substring.lower()))\n",
    "print('Token Set Ratio', fuzz.token_set_ratio(fullstring.lower(),substring.lower()))"
   ]
  },
  {
   "cell_type": "code",
   "execution_count": 12,
   "id": "621939ed",
   "metadata": {},
   "outputs": [
    {
     "name": "stdout",
     "output_type": "stream",
     "text": [
      "Partial Ratio 34\n",
      "Token Sort Ratio 41\n",
      "Token Set Ratio 41\n"
     ]
    }
   ],
   "source": [
    "fullstring = \"AISHI ASHIRVAD MISHRA\"\n",
    "substring = \"AJAY KUMAR PRADHAN\"\n",
    "print('Partial Ratio', fuzz.partial_ratio(fullstring.lower(),substring.lower()))\n",
    "print('Token Sort Ratio', fuzz.token_sort_ratio(fullstring.lower(),substring.lower()))\n",
    "print('Token Set Ratio', fuzz.token_set_ratio(fullstring.lower(),substring.lower()))"
   ]
  },
  {
   "cell_type": "code",
   "execution_count": 13,
   "id": "5003694c",
   "metadata": {},
   "outputs": [
    {
     "name": "stdout",
     "output_type": "stream",
     "text": [
      "Partial Ratio 67\n",
      "Token Sort Ratio 73\n",
      "Token Set Ratio 100\n"
     ]
    }
   ],
   "source": [
    "fullstring = \"SONALIKA SAPANPRIYA DEHURY\"\n",
    "substring = \"SONALIKA DEHURY\"\n",
    "print('Partial Ratio', fuzz.partial_ratio(fullstring.lower(),substring.lower()))\n",
    "print('Token Sort Ratio', fuzz.token_sort_ratio(fullstring.lower(),substring.lower()))\n",
    "print('Token Set Ratio', fuzz.token_set_ratio(fullstring.lower(),substring.lower()))"
   ]
  },
  {
   "cell_type": "code",
   "execution_count": 19,
   "id": "d389eb01",
   "metadata": {},
   "outputs": [],
   "source": [
    "# Dynamic Programming implementation of LCS problem\n",
    "  \n",
    "def lcs(X, Y):\n",
    "    # find the length of the strings\n",
    "    m = len(X)\n",
    "    n = len(Y)\n",
    "  \n",
    "    # declaring the array for storing the dp values\n",
    "    L = [[None]*(n + 1) for i in range(m + 1)]\n",
    "  \n",
    "    \"\"\"Following steps build L[m + 1][n + 1] in bottom up fashion\n",
    "    Note: L[i][j] contains length of LCS of X[0..i-1]\n",
    "    and Y[0..j-1]\"\"\"\n",
    "    for i in range(m + 1):\n",
    "        for j in range(n + 1):\n",
    "            if i == 0 or j == 0 :\n",
    "                L[i][j] = 0\n",
    "            elif X[i-1] == Y[j-1]:\n",
    "                L[i][j] = L[i-1][j-1]+1\n",
    "            else:\n",
    "                L[i][j] = max(L[i-1][j], L[i][j-1])\n",
    "  \n",
    "    # L[m][n] contains the length of LCS of X[0..n-1] & Y[0..m-1]\n",
    "    return L[m][n]\n",
    "# end of function lcs"
   ]
  },
  {
   "cell_type": "code",
   "execution_count": 22,
   "id": "e19fabf7",
   "metadata": {},
   "outputs": [
    {
     "name": "stdout",
     "output_type": "stream",
     "text": [
      "Len-X 16 Len-Y 15\n",
      "Length of LCS is  15\n"
     ]
    }
   ],
   "source": [
    "# Driver program to test the above function\n",
    "X = \"MEGHA KUMARI JHA\"\n",
    "Y = \"MEGHAKUMARI JHA\"\n",
    "print(\"Len-X\",len(X),\"Len-Y\",len(Y))\n",
    "print(\"Length of LCS is \", lcs(X, Y))\n",
    "  \n",
    "# This code is contributed by Nikhil Kumar Singh(nickzuck_007)"
   ]
  },
  {
   "cell_type": "code",
   "execution_count": 45,
   "id": "b4e4d3a7",
   "metadata": {},
   "outputs": [
    {
     "name": "stdout",
     "output_type": "stream",
     "text": [
      "Len-X 26 Len-Y 14\n",
      "Length of LCS is  8\n"
     ]
    }
   ],
   "source": [
    "# Driver program to test the above function\n",
    "X = \"SONALIK  SAPANPRIYA DEHURY\"\n",
    "Y = \"DEHURYSONALIKA\"\n",
    "print(\"Len-X\",len(X),\"Len-Y\",len(Y))\n",
    "print(\"Length of LCS is \", lcs(X, Y))\n",
    "  \n",
    "# This code is contributed by Nikhil Kumar Singh(nickzuck_007)"
   ]
  },
  {
   "cell_type": "code",
   "execution_count": 46,
   "id": "1afc7785",
   "metadata": {},
   "outputs": [
    {
     "name": "stdout",
     "output_type": "stream",
     "text": [
      "Partial Ratio 57\n",
      "Token Sort Ratio 67\n",
      "Token Set Ratio 67\n"
     ]
    }
   ],
   "source": [
    "fullstring = X\n",
    "substring = Y\n",
    "print('Partial Ratio', fuzz.partial_ratio(fullstring.lower(),substring.lower()))\n",
    "print('Token Sort Ratio', fuzz.token_sort_ratio(fullstring.lower(),substring.lower()))\n",
    "print('Token Set Ratio', fuzz.token_set_ratio(fullstring.lower(),substring.lower()))"
   ]
  },
  {
   "cell_type": "code",
   "execution_count": null,
   "id": "af964408",
   "metadata": {},
   "outputs": [],
   "source": []
  }
 ],
 "metadata": {
  "kernelspec": {
   "display_name": "Python 3",
   "language": "python",
   "name": "python3"
  },
  "language_info": {
   "codemirror_mode": {
    "name": "ipython",
    "version": 3
   },
   "file_extension": ".py",
   "mimetype": "text/x-python",
   "name": "python",
   "nbconvert_exporter": "python",
   "pygments_lexer": "ipython3",
   "version": "3.7.10"
  }
 },
 "nbformat": 4,
 "nbformat_minor": 5
}
